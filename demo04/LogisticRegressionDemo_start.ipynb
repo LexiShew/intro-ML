{
 "cells": [
  {
   "cell_type": "markdown",
   "id": "descending-greece",
   "metadata": {},
   "source": [
    "## Learning about the logistic regression classifier model\n",
    "\n",
    "Some experiments with logistic regression on some smaller data sets."
   ]
  },
  {
   "cell_type": "code",
   "execution_count": 1,
   "id": "serial-horse",
   "metadata": {},
   "outputs": [],
   "source": [
    "# imports and setup\n",
    "import numpy as np\n",
    "from numpy.random import default_rng\n",
    "\n",
    "from sklearn.datasets import make_classification, load_digits\n",
    "from sklearn.linear_model import LogisticRegression\n",
    "from sklearn.metrics import roc_curve, roc_auc_score, log_loss, confusion_matrix\n",
    "from sklearn.model_selection import train_test_split\n",
    "\n",
    "import matplotlib\n",
    "import matplotlib.pyplot as plt\n",
    "import seaborn as sns\n",
    "\n",
    "%matplotlib inline\n",
    "np.set_printoptions(suppress=True, precision=3)"
   ]
  },
  {
   "cell_type": "markdown",
   "id": "sonic-creator",
   "metadata": {},
   "source": [
    "### Plotting functions\n",
    "\n",
    "Each of these will generate some plotted 2-dimensional, 2-class data. "
   ]
  },
  {
   "cell_type": "code",
   "execution_count": 2,
   "id": "vertical-daisy",
   "metadata": {},
   "outputs": [],
   "source": [
    "def plot_data(x, y):\n",
    "    plot_x_min, plot_x_max = x[:, 0].min() - 1, x[:, 0].max() + 1\n",
    "    plot_y_min, plot_y_max = x[:, 1].min() - 1, x[:, 1].max() + 1\n",
    "    \n",
    "    # plot the basic data points\n",
    "    class0_x = x[y==0]\n",
    "    class1_x = x[y==1]\n",
    "    plt.scatter(class0_x[:,0], class0_x[:,1], c='r', marker='x', label='Class 0')\n",
    "    plt.scatter(class1_x[:,0], class1_x[:,1], c='b', marker='o', label='Class 1')\n",
    "    \n",
    "    plt.xlim(plot_x_min, plot_x_max)\n",
    "    plt.ylim(plot_y_min, plot_y_max)\n",
    "    plt.legend()\n",
    "    plt.title(\"Basic data\")"
   ]
  },
  {
   "cell_type": "code",
   "execution_count": 3,
   "id": "provincial-generator",
   "metadata": {},
   "outputs": [],
   "source": [
    "def plot_model_prediction(model, x, y):\n",
    "    plot_x_min, plot_x_max = x[:, 0].min() - 1, x[:, 0].max() + 1\n",
    "    plot_y_min, plot_y_max = x[:, 1].min() - 1, x[:, 1].max() + 1\n",
    "    \n",
    "    # plot the separator\n",
    "    model_intercept = model.intercept_[0]\n",
    "    weight1, weight2 = model.coef_.T\n",
    "    line_intercept = -model_intercept/weight2\n",
    "    line_slope = -weight1/weight2\n",
    "    line_x = np.array([plot_x_min, plot_x_max])\n",
    "    line_y = line_slope * line_x + line_intercept\n",
    "    plt.plot(line_x, line_y, 'm', lw=1, ls='--')\n",
    "    \n",
    "    # plot the decision data (two colors)\n",
    "    xx, yy = np.meshgrid(np.arange(plot_x_min, plot_x_max, 0.01),\n",
    "                         np.arange(plot_y_min, plot_y_max, 0.01))\n",
    "    vx, vy = xx.flatten(), yy.flatten()\n",
    "    vx, vy = vx.reshape((len(vx), 1)), vy.reshape((len(vy), 1))\n",
    "    grid = np.hstack((vx, vy))\n",
    "    \n",
    "    positive_predictions = model.predict(grid)\n",
    "    zz = positive_predictions.reshape(xx.shape)\n",
    "    contour = plt.contourf(xx, yy, zz, \n",
    "                           cmap=matplotlib.colors.ListedColormap(('r','b')), alpha=0.25)\n",
    "\n",
    "    # plot the basic data points\n",
    "    class0_x = x[y==0]\n",
    "    class1_x = x[y==1]\n",
    "    plt.scatter(class0_x[:,0], class0_x[:,1], c='r', marker='x', label='Class 0')\n",
    "    plt.scatter(class1_x[:,0], class1_x[:,1], c='b', marker='o', label='Class 1')\n",
    "        \n",
    "    plt.xlim(plot_x_min, plot_x_max)\n",
    "    plt.ylim(plot_y_min, plot_y_max)\n",
    "    plt.legend()\n",
    "    plt.title(\"Classification regions\")"
   ]
  },
  {
   "cell_type": "code",
   "execution_count": 4,
   "id": "twenty-valuable",
   "metadata": {},
   "outputs": [],
   "source": [
    "def plot_model_contour(model, x, y):\n",
    "    plot_x_min, plot_x_max = x[:, 0].min() - 1, x[:, 0].max() + 1\n",
    "    plot_y_min, plot_y_max = x[:, 1].min() - 1, x[:, 1].max() + 1\n",
    "    \n",
    "    # plot the separator\n",
    "    model_intercept = model.intercept_[0]\n",
    "    weight1, weight2 = model.coef_.T\n",
    "    line_intercept = -model_intercept/weight2\n",
    "    line_slope = -weight1/weight2\n",
    "    line_x = np.array([plot_x_min, plot_x_max])\n",
    "    line_y = line_slope * line_x + line_intercept\n",
    "    plt.plot(line_x, line_y, 'm', lw=1, ls='--')\n",
    "    \n",
    "    # plot the probability contour (control smoothness with 'levels' parameter)\n",
    "    xx, yy = np.meshgrid(np.arange(plot_x_min, plot_x_max, 0.1),\n",
    "                         np.arange(plot_y_min, plot_y_max, 0.1))\n",
    "    vx, vy = xx.flatten(), yy.flatten()\n",
    "    vx, vy = vx.reshape((len(vx), 1)), vy.reshape((len(vy), 1))\n",
    "    grid = np.hstack((vx, vy))\n",
    "    \n",
    "    positive_predictions = model.predict_proba(grid)[:, 1]\n",
    "    zz = positive_predictions.reshape(xx.shape)\n",
    "    contour = plt.contourf(xx, yy, zz, cmap='Greys', levels=10)\n",
    "    plt.colorbar(contour)\n",
    "\n",
    "    # plot the basic data points\n",
    "    class0_x = x[y==0]\n",
    "    class1_x = x[y==1]\n",
    "    plt.scatter(class0_x[:,0], class0_x[:,1], c='r', marker='x', label='Class 0')\n",
    "    plt.scatter(class1_x[:,0], class1_x[:,1], c='b', marker='o', label='Class 1')\n",
    "    \n",
    "    plt.xlim(plot_x_min, plot_x_max)\n",
    "    plt.ylim(plot_y_min, plot_y_max)\n",
    "    plt.legend()\n",
    "    plt.title(\"Probability(x in class 1)\")"
   ]
  },
  {
   "cell_type": "markdown",
   "id": "collaborative-dragon",
   "metadata": {},
   "source": [
    "## Basic logistic regression on 2-class synthetic data"
   ]
  },
  {
   "cell_type": "code",
   "execution_count": 5,
   "id": "casual-laundry",
   "metadata": {},
   "outputs": [
    {
     "data": {
      "image/png": "[encoded data removed]",
      "text/plain": [
       "<Figure size 432x288 with 1 Axes>"
      ]
     },
     "metadata": {
      "needs_background": "light"
     },
     "output_type": "display_data"
    }
   ],
   "source": [
    "x_N, y_N = make_classification(n_samples=50, n_features=2, n_redundant=0, n_clusters_per_class=1, class_sep=1)\n",
    "plot_data(x_N, y_N)"
   ]
  },
  {
   "cell_type": "code",
   "execution_count": 6,
   "id": "dd1d5f5c",
   "metadata": {},
   "outputs": [
    {
     "data": {
      "text/plain": [
       "LogisticRegression()"
      ]
     },
     "execution_count": 6,
     "metadata": {},
     "output_type": "execute_result"
    }
   ],
   "source": [
    "model = LogisticRegression()\n",
    "model.fit(x_N, y_N)"
   ]
  },
  {
   "cell_type": "code",
   "execution_count": 7,
   "id": "483e044a",
   "metadata": {},
   "outputs": [
    {
     "data": {
      "text/plain": [
       "array([[-1.084,  1.244],\n",
       "       [-1.609, -2.173],\n",
       "       [-0.926,  0.816],\n",
       "       [-0.651, -0.244],\n",
       "       [-1.264,  1.02 ]])"
      ]
     },
     "execution_count": 7,
     "metadata": {},
     "output_type": "execute_result"
    }
   ],
   "source": [
    "rng = default_rng()\n",
    "sample_data = rng.choice(x_N, 5)\n",
    "sample_data"
   ]
  },
  {
   "cell_type": "code",
   "execution_count": 8,
   "id": "194728f7",
   "metadata": {},
   "outputs": [
    {
     "data": {
      "text/plain": [
       "array([0, 1, 0, 1, 0])"
      ]
     },
     "execution_count": 8,
     "metadata": {},
     "output_type": "execute_result"
    }
   ],
   "source": [
    "model.predict(sample_data)"
   ]
  },
  {
   "cell_type": "code",
   "execution_count": 9,
   "id": "7c02eeed",
   "metadata": {},
   "outputs": [
    {
     "data": {
      "text/plain": [
       "array([[0.896, 0.104],\n",
       "       [0.008, 0.992],\n",
       "       [0.778, 0.222],\n",
       "       [0.276, 0.724],\n",
       "       [0.846, 0.154]])"
      ]
     },
     "execution_count": 9,
     "metadata": {},
     "output_type": "execute_result"
    }
   ],
   "source": [
    "model.predict_proba(sample_data)"
   ]
  },
  {
   "cell_type": "code",
   "execution_count": 10,
   "id": "5e432dd4",
   "metadata": {},
   "outputs": [
    {
     "data": {
      "image/png": "[encoded data removed]",
      "text/plain": [
       "<Figure size 432x288 with 1 Axes>"
      ]
     },
     "metadata": {
      "needs_background": "light"
     },
     "output_type": "display_data"
    }
   ],
   "source": [
    "# 1s and 0s\n",
    "plot_model_prediction(model, x_N, y_N)"
   ]
  },
  {
   "cell_type": "code",
   "execution_count": 11,
   "id": "4a1fd693",
   "metadata": {},
   "outputs": [
    {
     "data": {
      "image/png": "[encoded data removed]",
      "text/plain": [
       "<Figure size 432x288 with 2 Axes>"
      ]
     },
     "metadata": {
      "needs_background": "light"
     },
     "output_type": "display_data"
    }
   ],
   "source": [
    "# probablities -- can help you decide where to draw the threshold\n",
    "# could even feed more uncertain data into another classifer (2nd might be slower or use different method)\n",
    "plot_model_contour(model, x_N, y_N)"
   ]
  },
  {
   "cell_type": "code",
   "execution_count": 12,
   "id": "6936ef14",
   "metadata": {},
   "outputs": [
    {
     "data": {
      "text/plain": [
       "0.88"
      ]
     },
     "execution_count": 12,
     "metadata": {},
     "output_type": "execute_result"
    }
   ],
   "source": [
    "y_pred = model.predict(x_N)\n",
    "y_prob = model.predict_proba(x_N)\n",
    "\n",
    "model.score(x_N, y_N)"
   ]
  },
  {
   "cell_type": "code",
   "execution_count": 13,
   "id": "c85cd572",
   "metadata": {},
   "outputs": [
    {
     "data": {
      "text/plain": [
       "0.2661455056458897"
      ]
     },
     "execution_count": 13,
     "metadata": {},
     "output_type": "execute_result"
    }
   ],
   "source": [
    "# aim to minimize, but really its just a comparison between classifiers (lower = better, actual value isnt super useful)\n",
    "log_loss(y_N, y_prob)"
   ]
  },
  {
   "cell_type": "code",
   "execution_count": 14,
   "id": "34f25c3b",
   "metadata": {},
   "outputs": [
    {
     "data": {
      "text/plain": [
       "4.144701143235094"
      ]
     },
     "execution_count": 14,
     "metadata": {},
     "output_type": "execute_result"
    }
   ],
   "source": [
    "# DONT DO THIS -- don't run it on the prediction values, because it's gonna compare 1s and 0s to 1s and 0s,\n",
    "# so if something is misclassified, it gets way worse (exagerates mistakes, tho also somewhat exagerate correct\n",
    "# predictions but that gets overshadowed)\n",
    "log_loss(y_N, y_pred)"
   ]
  },
  {
   "cell_type": "markdown",
   "id": "minimal-projector",
   "metadata": {},
   "source": [
    "#### ROC curve metrics"
   ]
  },
  {
   "cell_type": "code",
   "execution_count": 15,
   "id": "defined-slope",
   "metadata": {},
   "outputs": [
    {
     "data": {
      "image/png": "[encoded data removed]",
      "text/plain": [
       "<Figure size 432x288 with 1 Axes>"
      ]
     },
     "metadata": {
      "needs_background": "light"
     },
     "output_type": "display_data"
    }
   ],
   "source": [
    "# this would be more interesting on a bigger datasets\n",
    "probs_class1 = y_prob[:,1]\n",
    "auroc = roc_auc_score(y_N, probs_class1)\n",
    "fpr, tpr, thresholds = roc_curve(y_N, probs_class1)\n",
    "plt.plot(fpr, tpr, marker='.', label='Logistic')\n",
    "plt.title('AUROC = %.3f' % auroc)\n",
    "plt.xlabel('False positive rate')\n",
    "plt.ylabel('True positive rate')\n",
    "plt.legend();"
   ]
  },
  {
   "cell_type": "code",
   "execution_count": 16,
   "id": "impressive-upper",
   "metadata": {},
   "outputs": [
    {
     "name": "stdout",
     "output_type": "stream",
     "text": [
      "Threshold: 1.993215, TPR: 0.000000, FPR: 0.000000\n",
      "Threshold: 0.993215, TPR: 0.040000, FPR: 0.000000\n",
      "Threshold: 0.723628, TPR: 0.800000, FPR: 0.000000\n",
      "Threshold: 0.628903, TPR: 0.800000, FPR: 0.040000\n",
      "Threshold: 0.555230, TPR: 0.880000, FPR: 0.040000\n",
      "Threshold: 0.482093, TPR: 0.880000, FPR: 0.160000\n",
      "Threshold: 0.409847, TPR: 0.960000, FPR: 0.160000\n",
      "Threshold: 0.082832, TPR: 0.960000, FPR: 0.680000\n",
      "Threshold: 0.070845, TPR: 1.000000, FPR: 0.680000\n",
      "Threshold: 0.000671, TPR: 1.000000, FPR: 1.000000\n"
     ]
    }
   ],
   "source": [
    "# threshold starts out greater than 1 bc you need a spot where TP and FP rates are zeroed\n",
    "    # its meaningless -- top value + 1\n",
    "for i in range(len(fpr)):\n",
    "    print(\"Threshold: %f, TPR: %f, FPR: %f\" % \n",
    "          (thresholds[i], tpr[i], fpr[i]))"
   ]
  },
  {
   "cell_type": "markdown",
   "id": "worse-hazard",
   "metadata": {},
   "source": [
    "### A built-in test data-set of digit images"
   ]
  },
  {
   "cell_type": "code",
   "execution_count": 17,
   "id": "tired-directive",
   "metadata": {},
   "outputs": [
    {
     "name": "stdout",
     "output_type": "stream",
     "text": [
      "Data shape:  (1797, 64)\n"
     ]
    }
   ],
   "source": [
    "digits = load_digits()\n",
    "print(\"Data shape: \", digits.data.shape)"
   ]
  },
  {
   "cell_type": "code",
   "execution_count": 18,
   "id": "wanted-transfer",
   "metadata": {},
   "outputs": [
    {
     "name": "stdout",
     "output_type": "stream",
     "text": [
      "Data input:  [ 0.  0.  0.  6. 13.  8.  0.  0.  0.  0.  7. 16.  8.  4.  0.  0.  0.  3.\n",
      " 15.  2.  0.  0.  0.  0.  0.  6. 12.  4.  0.  0.  0.  0.  0.  4. 16. 13.\n",
      " 13.  3.  0.  0.  0.  2. 15.  2.  5. 14.  0.  0.  0.  0.  9. 10.  2. 15.\n",
      "  0.  0.  0.  0.  0.  8. 15. 12.  0.  0.]\n",
      "Data label:  6\n"
     ]
    }
   ],
   "source": [
    "indices = default_rng().choice(digits.data.shape[0], 5)\n",
    "random_data = digits.data[indices]\n",
    "random_data_labels = digits.target[indices]\n",
    "\n",
    "# Here's a single random data point, as stored in input/label form\n",
    "print(\"Data input: \", random_data[0])\n",
    "print(\"Data label: \", random_data_labels[0])"
   ]
  },
  {
   "cell_type": "code",
   "execution_count": 19,
   "id": "accompanied-punch",
   "metadata": {},
   "outputs": [
    {
     "data": {
      "image/png": "[encoded data removed]",
      "text/plain": [
       "<Figure size 1440x216 with 5 Axes>"
      ]
     },
     "metadata": {
      "needs_background": "light"
     },
     "output_type": "display_data"
    }
   ],
   "source": [
    "# Here are 5 such random data points, reshaped and displayed as images\n",
    "plt.figure(figsize=(20, 3))\n",
    "for index, (img, out) in enumerate(zip(random_data, \n",
    "                                       random_data_labels)):\n",
    "    plt.subplot(1, 5, index + 1)\n",
    "    plt.imshow(np.reshape(img, (8,8)), cmap=plt.cm.gray)\n",
    "    plt.title('Label = %i\\n' % out, fontsize=20)"
   ]
  },
  {
   "cell_type": "code",
   "execution_count": 20,
   "id": "through-chosen",
   "metadata": {},
   "outputs": [
    {
     "name": "stdout",
     "output_type": "stream",
     "text": [
      "Basic accuracy:  0.9638888888888889\n"
     ]
    }
   ],
   "source": [
    "x_train, x_test, y_train, y_test = train_test_split(\n",
    "    digits.data, digits.target, test_size=0.2)\n",
    "model = LogisticRegression(max_iter=2_500)\n",
    "model.fit(x_train, y_train)\n",
    "predictions = model.predict(x_test)\n",
    "score = model.score(x_test, y_test)\n",
    "print(\"Basic accuracy: \", score)"
   ]
  },
  {
   "cell_type": "code",
   "execution_count": 21,
   "id": "decimal-accounting",
   "metadata": {},
   "outputs": [
    {
     "name": "stdout",
     "output_type": "stream",
     "text": [
      "[[29  0  0  0  0  0  0  0  0  0]\n",
      " [ 0 25  0  0  0  0  0  0  0  0]\n",
      " [ 0  0 39  0  0  0  0  0  0  0]\n",
      " [ 0  0  1 36  0  0  0  0  0  0]\n",
      " [ 0  1  0  0 40  0  0  0  0  0]\n",
      " [ 0  0  0  0  0 38  0  0  0  0]\n",
      " [ 0  0  0  0  0  0 35  0  0  0]\n",
      " [ 0  0  0  0  0  0  0 41  0  1]\n",
      " [ 0  3  2  0  0  2  0  0 35  0]\n",
      " [ 0  0  0  0  0  1  0  0  2 29]]\n"
     ]
    }
   ],
   "source": [
    "conf_matrix = confusion_matrix(y_test, predictions)\n",
    "print(conf_matrix)"
   ]
  },
  {
   "cell_type": "code",
   "execution_count": 22,
   "id": "hawaiian-finish",
   "metadata": {},
   "outputs": [
    {
     "data": {
      "text/plain": [
       "Text(0.5, 1.0, 'Confusion matrix')"
      ]
     },
     "execution_count": 22,
     "metadata": {},
     "output_type": "execute_result"
    },
    {
     "data": {
      "image/png": "[encoded data removed]",
      "text/plain": [
       "<Figure size 648x648 with 2 Axes>"
      ]
     },
     "metadata": {
      "needs_background": "light"
     },
     "output_type": "display_data"
    }
   ],
   "source": [
    "# The basic CM isn't very pretty, but we can jazz it up with some plotting.\n",
    "plt.figure(figsize=(9, 9))\n",
    "sns.heatmap(conf_matrix, annot=True, linewidths=0.5, cmap='Reds')\n",
    "plt.ylabel('Actual digit')\n",
    "plt.xlabel('Predicted digit')\n",
    "plt.title('Confusion matrix')"
   ]
  },
  {
   "cell_type": "code",
   "execution_count": 23,
   "id": "logical-cargo",
   "metadata": {},
   "outputs": [
    {
     "data": {
      "image/png": "[encoded data removed]",
      "text/plain": [
       "<Figure size 1440x216 with 5 Axes>"
      ]
     },
     "metadata": {
      "needs_background": "light"
     },
     "output_type": "display_data"
    }
   ],
   "source": [
    "# Here, we can see examples of 5 of the data-points that the model gets wrong.  \n",
    "# (This assumes there are at least 5; if not, might need to modify code a bit.)\n",
    "wrong = np.nonzero(predictions != y_test)[0]\n",
    "\n",
    "plt.figure(figsize=(20, 3))\n",
    "for plotIdx, wrongIdx in enumerate(wrong[0:5]):\n",
    "    plt.subplot(1, 5, plotIdx + 1)\n",
    "    plt.imshow(np.reshape(x_test[wrongIdx], (8,8)), cmap=plt.cm.gray)\n",
    "    plt.title(\n",
    "        'Predicted: {}, Actual: {}'.format(predictions[wrongIdx],\n",
    "             y_test[wrongIdx]))"
   ]
  },
  {
   "cell_type": "code",
   "execution_count": null,
   "id": "plain-hunger",
   "metadata": {},
   "outputs": [],
   "source": []
  }
 ],
 "metadata": {
  "kernelspec": {
   "display_name": "Python 3",
   "language": "python",
   "name": "python3"
  },
  "language_info": {
   "codemirror_mode": {
    "name": "ipython",
    "version": 3
   },
   "file_extension": ".py",
   "mimetype": "text/x-python",
   "name": "python",
   "nbconvert_exporter": "python",
   "pygments_lexer": "ipython3",
   "version": "3.7.10"
  }
 },
 "nbformat": 4,
 "nbformat_minor": 5
}
