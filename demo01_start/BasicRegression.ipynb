{
 "cells": [
  {
   "cell_type": "markdown",
   "metadata": {},
   "source": [
    "## Basic Linear/Polynomial Regression Demo\n",
    "\n",
    "Demonstrates the basic use of the linear regression model from sklearn:\n",
    "\n",
    "[https://scikit-learn.org/stable/modules/generated/sklearn.linear_model.LinearRegression.html](https://scikit-learn.org/stable/modules/generated/sklearn.linear_model.LinearRegression.html)\n",
    "\n",
    "Simple one-dimensional data prediction.  Basic model and data based upon an example by S. Srinidhi:\n",
    "\n",
    "[https://medium.com/@contactsunny/linear-regression-in-python-using-scikit-learn-f0f7b125a204](https://medium.com/@contactsunny/linear-regression-in-python-using-scikit-learn-f0f7b125a204)"
   ]
  },
  {
   "cell_type": "code",
   "execution_count": 1,
   "metadata": {},
   "outputs": [],
   "source": [
    "# imports and setup\n",
    "import math\n",
    "import numpy as np\n",
    "import pandas # manipulate data frames\n",
    "\n",
    "from sklearn.model_selection import train_test_split\n",
    "from sklearn.linear_model import LinearRegression\n",
    "from sklearn.metrics import mean_squared_error\n",
    "\n",
    "import seaborn as sns\n",
    "import matplotlib\n",
    "import matplotlib.pyplot as plt\n",
    "\n",
    "%matplotlib inline\n",
    "np.set_printoptions(suppress=True, precision=2)\n",
    "pandas.set_option('precision', 2) # number precision for pandas\n",
    "plt.style.use('seaborn') # pretty matplotlib plots"
   ]
  },
  {
   "cell_type": "code",
   "execution_count": 2,
   "metadata": {},
   "outputs": [],
   "source": [
    "# read and display data-set\n",
    "data = pandas.read_csv('C:\\\\Users\\\\lexis\\\\OneDrive - Tufts\\\\2.0 Summer \\'21\\\\Comp135\\\\demo01_start\\\\salaryData.csv')"
   ]
  },
  {
   "cell_type": "code",
   "execution_count": 3,
   "metadata": {},
   "outputs": [
    {
     "data": {
      "text/html": [
       "<div>\n",
       "<style scoped>\n",
       "    .dataframe tbody tr th:only-of-type {\n",
       "        vertical-align: middle;\n",
       "    }\n",
       "\n",
       "    .dataframe tbody tr th {\n",
       "        vertical-align: top;\n",
       "    }\n",
       "\n",
       "    .dataframe thead th {\n",
       "        text-align: right;\n",
       "    }\n",
       "</style>\n",
       "<table border=\"1\" class=\"dataframe\">\n",
       "  <thead>\n",
       "    <tr style=\"text-align: right;\">\n",
       "      <th></th>\n",
       "      <th>YearsExperience</th>\n",
       "      <th>Salary</th>\n",
       "    </tr>\n",
       "  </thead>\n",
       "  <tbody>\n",
       "    <tr>\n",
       "      <th>0</th>\n",
       "      <td>1.1</td>\n",
       "      <td>39343.0</td>\n",
       "    </tr>\n",
       "    <tr>\n",
       "      <th>1</th>\n",
       "      <td>1.3</td>\n",
       "      <td>46205.0</td>\n",
       "    </tr>\n",
       "    <tr>\n",
       "      <th>2</th>\n",
       "      <td>1.5</td>\n",
       "      <td>37731.0</td>\n",
       "    </tr>\n",
       "    <tr>\n",
       "      <th>3</th>\n",
       "      <td>2.0</td>\n",
       "      <td>43525.0</td>\n",
       "    </tr>\n",
       "    <tr>\n",
       "      <th>4</th>\n",
       "      <td>2.2</td>\n",
       "      <td>39891.0</td>\n",
       "    </tr>\n",
       "    <tr>\n",
       "      <th>5</th>\n",
       "      <td>2.9</td>\n",
       "      <td>56642.0</td>\n",
       "    </tr>\n",
       "    <tr>\n",
       "      <th>6</th>\n",
       "      <td>3.0</td>\n",
       "      <td>60150.0</td>\n",
       "    </tr>\n",
       "    <tr>\n",
       "      <th>7</th>\n",
       "      <td>3.2</td>\n",
       "      <td>54445.0</td>\n",
       "    </tr>\n",
       "    <tr>\n",
       "      <th>8</th>\n",
       "      <td>3.2</td>\n",
       "      <td>64445.0</td>\n",
       "    </tr>\n",
       "    <tr>\n",
       "      <th>9</th>\n",
       "      <td>3.7</td>\n",
       "      <td>57189.0</td>\n",
       "    </tr>\n",
       "    <tr>\n",
       "      <th>10</th>\n",
       "      <td>3.9</td>\n",
       "      <td>63218.0</td>\n",
       "    </tr>\n",
       "    <tr>\n",
       "      <th>11</th>\n",
       "      <td>4.0</td>\n",
       "      <td>55794.0</td>\n",
       "    </tr>\n",
       "    <tr>\n",
       "      <th>12</th>\n",
       "      <td>4.0</td>\n",
       "      <td>56957.0</td>\n",
       "    </tr>\n",
       "    <tr>\n",
       "      <th>13</th>\n",
       "      <td>4.1</td>\n",
       "      <td>57081.0</td>\n",
       "    </tr>\n",
       "    <tr>\n",
       "      <th>14</th>\n",
       "      <td>4.5</td>\n",
       "      <td>61111.0</td>\n",
       "    </tr>\n",
       "    <tr>\n",
       "      <th>15</th>\n",
       "      <td>4.9</td>\n",
       "      <td>67938.0</td>\n",
       "    </tr>\n",
       "    <tr>\n",
       "      <th>16</th>\n",
       "      <td>5.1</td>\n",
       "      <td>66029.0</td>\n",
       "    </tr>\n",
       "    <tr>\n",
       "      <th>17</th>\n",
       "      <td>5.3</td>\n",
       "      <td>83088.0</td>\n",
       "    </tr>\n",
       "    <tr>\n",
       "      <th>18</th>\n",
       "      <td>5.9</td>\n",
       "      <td>81363.0</td>\n",
       "    </tr>\n",
       "    <tr>\n",
       "      <th>19</th>\n",
       "      <td>6.0</td>\n",
       "      <td>93940.0</td>\n",
       "    </tr>\n",
       "    <tr>\n",
       "      <th>20</th>\n",
       "      <td>6.8</td>\n",
       "      <td>91738.0</td>\n",
       "    </tr>\n",
       "    <tr>\n",
       "      <th>21</th>\n",
       "      <td>7.1</td>\n",
       "      <td>98273.0</td>\n",
       "    </tr>\n",
       "    <tr>\n",
       "      <th>22</th>\n",
       "      <td>7.9</td>\n",
       "      <td>101302.0</td>\n",
       "    </tr>\n",
       "    <tr>\n",
       "      <th>23</th>\n",
       "      <td>8.2</td>\n",
       "      <td>113812.0</td>\n",
       "    </tr>\n",
       "    <tr>\n",
       "      <th>24</th>\n",
       "      <td>8.7</td>\n",
       "      <td>109431.0</td>\n",
       "    </tr>\n",
       "    <tr>\n",
       "      <th>25</th>\n",
       "      <td>9.0</td>\n",
       "      <td>105582.0</td>\n",
       "    </tr>\n",
       "    <tr>\n",
       "      <th>26</th>\n",
       "      <td>9.5</td>\n",
       "      <td>116969.0</td>\n",
       "    </tr>\n",
       "    <tr>\n",
       "      <th>27</th>\n",
       "      <td>9.6</td>\n",
       "      <td>112635.0</td>\n",
       "    </tr>\n",
       "    <tr>\n",
       "      <th>28</th>\n",
       "      <td>10.3</td>\n",
       "      <td>122391.0</td>\n",
       "    </tr>\n",
       "    <tr>\n",
       "      <th>29</th>\n",
       "      <td>10.5</td>\n",
       "      <td>121872.0</td>\n",
       "    </tr>\n",
       "  </tbody>\n",
       "</table>\n",
       "</div>"
      ],
      "text/plain": [
       "    YearsExperience    Salary\n",
       "0               1.1   39343.0\n",
       "1               1.3   46205.0\n",
       "2               1.5   37731.0\n",
       "3               2.0   43525.0\n",
       "4               2.2   39891.0\n",
       "5               2.9   56642.0\n",
       "6               3.0   60150.0\n",
       "7               3.2   54445.0\n",
       "8               3.2   64445.0\n",
       "9               3.7   57189.0\n",
       "10              3.9   63218.0\n",
       "11              4.0   55794.0\n",
       "12              4.0   56957.0\n",
       "13              4.1   57081.0\n",
       "14              4.5   61111.0\n",
       "15              4.9   67938.0\n",
       "16              5.1   66029.0\n",
       "17              5.3   83088.0\n",
       "18              5.9   81363.0\n",
       "19              6.0   93940.0\n",
       "20              6.8   91738.0\n",
       "21              7.1   98273.0\n",
       "22              7.9  101302.0\n",
       "23              8.2  113812.0\n",
       "24              8.7  109431.0\n",
       "25              9.0  105582.0\n",
       "26              9.5  116969.0\n",
       "27              9.6  112635.0\n",
       "28             10.3  122391.0\n",
       "29             10.5  121872.0"
      ]
     },
     "execution_count": 3,
     "metadata": {},
     "output_type": "execute_result"
    }
   ],
   "source": [
    "data"
   ]
  },
  {
   "cell_type": "code",
   "execution_count": 4,
   "metadata": {},
   "outputs": [],
   "source": [
    "# separate out the inputs (x) and outputs (y)\n",
    "x = data.iloc[:, :-1].values\n",
    "y = data.iloc[:, 1].values"
   ]
  },
  {
   "cell_type": "code",
   "execution_count": 5,
   "metadata": {},
   "outputs": [
    {
     "data": {
      "text/plain": [
       "array([[ 1.1],\n",
       "       [ 1.3],\n",
       "       [ 1.5],\n",
       "       [ 2. ],\n",
       "       [ 2.2],\n",
       "       [ 2.9],\n",
       "       [ 3. ],\n",
       "       [ 3.2],\n",
       "       [ 3.2],\n",
       "       [ 3.7],\n",
       "       [ 3.9],\n",
       "       [ 4. ],\n",
       "       [ 4. ],\n",
       "       [ 4.1],\n",
       "       [ 4.5],\n",
       "       [ 4.9],\n",
       "       [ 5.1],\n",
       "       [ 5.3],\n",
       "       [ 5.9],\n",
       "       [ 6. ],\n",
       "       [ 6.8],\n",
       "       [ 7.1],\n",
       "       [ 7.9],\n",
       "       [ 8.2],\n",
       "       [ 8.7],\n",
       "       [ 9. ],\n",
       "       [ 9.5],\n",
       "       [ 9.6],\n",
       "       [10.3],\n",
       "       [10.5]])"
      ]
     },
     "execution_count": 5,
     "metadata": {},
     "output_type": "execute_result"
    }
   ],
   "source": [
    "# inputs (x) should be a columnar arrangement, one data-point per row\n",
    "x"
   ]
  },
  {
   "cell_type": "code",
   "execution_count": 6,
   "metadata": {},
   "outputs": [
    {
     "data": {
      "text/plain": [
       "array([ 39343.,  46205.,  37731.,  43525.,  39891.,  56642.,  60150.,\n",
       "        54445.,  64445.,  57189.,  63218.,  55794.,  56957.,  57081.,\n",
       "        61111.,  67938.,  66029.,  83088.,  81363.,  93940.,  91738.,\n",
       "        98273., 101302., 113812., 109431., 105582., 116969., 112635.,\n",
       "       122391., 121872.])"
      ]
     },
     "execution_count": 6,
     "metadata": {},
     "output_type": "execute_result"
    }
   ],
   "source": [
    "# outputs (y) is a single array of values, one per row of x\n",
    "y"
   ]
  },
  {
   "cell_type": "code",
   "execution_count": 7,
   "metadata": {},
   "outputs": [],
   "source": [
    "# divide data: 2/3 to train model, 1/3 to test for validation\n",
    "xTrain, xTest, yTrain, yTest = train_test_split(x, y, test_size=1/3)"
   ]
  },
  {
   "cell_type": "code",
   "execution_count": 8,
   "metadata": {},
   "outputs": [
    {
     "data": {
      "text/plain": [
       "array([[3.7],\n",
       "       [9.5],\n",
       "       [5.3],\n",
       "       [2. ],\n",
       "       [1.3],\n",
       "       [7.1],\n",
       "       [6. ],\n",
       "       [3.2],\n",
       "       [4.5],\n",
       "       [2.9],\n",
       "       [8.7],\n",
       "       [9. ],\n",
       "       [3.2],\n",
       "       [6.8],\n",
       "       [3. ],\n",
       "       [4. ],\n",
       "       [9.6],\n",
       "       [1.5],\n",
       "       [4.1],\n",
       "       [5.1]])"
      ]
     },
     "execution_count": 8,
     "metadata": {},
     "output_type": "execute_result"
    }
   ],
   "source": [
    "xTrain"
   ]
  },
  {
   "cell_type": "code",
   "execution_count": 9,
   "metadata": {},
   "outputs": [
    {
     "data": {
      "text/plain": [
       "array([ 57189., 116969.,  83088.,  43525.,  46205.,  98273.,  93940.,\n",
       "        54445.,  61111.,  56642., 109431., 105582.,  64445.,  91738.,\n",
       "        60150.,  55794., 112635.,  37731.,  57081.,  66029.])"
      ]
     },
     "execution_count": 9,
     "metadata": {},
     "output_type": "execute_result"
    }
   ],
   "source": [
    "yTrain"
   ]
  },
  {
   "cell_type": "code",
   "execution_count": 10,
   "metadata": {},
   "outputs": [
    {
     "data": {
      "text/plain": [
       "LinearRegression()"
      ]
     },
     "execution_count": 10,
     "metadata": {},
     "output_type": "execute_result"
    }
   ],
   "source": [
    "# build the basic linear model, fit to the training data;\n",
    "# finds min-error coefficient for x\n",
    "linReg = LinearRegression()\n",
    "linReg.fit(xTrain, yTrain) # takes x's and y's and adjusts the lin weights to minimize error -- analytically or w gradient decent\n"
   ]
  },
  {
   "cell_type": "code",
   "execution_count": 11,
   "metadata": {},
   "outputs": [
    {
     "data": {
      "text/plain": [
       "array([ 61355.29, 114955.43,  76141.54,  45644.91,  39175.93,  92776.06,\n",
       "        82610.52,  56734.59,  68748.41,  53962.17, 107562.3 , 110334.73,\n",
       "        56734.59,  90003.64,  54886.31,  64127.71, 115879.57,  41024.21,\n",
       "        65051.85,  74293.26])"
      ]
     },
     "execution_count": 11,
     "metadata": {},
     "output_type": "execute_result"
    }
   ],
   "source": [
    "# the predictions the model makes on input sets; \n",
    "# compare predictions on yTrain to correct values, above\n",
    "yTestPredict = linReg.predict(xTest)\n",
    "yTrainPredict = linReg.predict(xTrain)\n",
    "yTrainPredict # these are decently close to the values in yTrain (see above)"
   ]
  },
  {
   "cell_type": "code",
   "execution_count": 12,
   "metadata": {},
   "outputs": [
    {
     "data": {
      "image/png": "[encoded data removed]",
      "text/plain": [
       "<Figure size 576x396 with 1 Axes>"
      ]
     },
     "metadata": {},
     "output_type": "display_data"
    }
   ],
   "source": [
    "# plot predicted line for training set\n",
    "plt.scatter(xTrain, yTrain, color=\"red\") # original data -- trends upwards, makes sense to use lin reg here\n",
    "plt.plot(xTrain, yTrainPredict, color=\"blue\")\n",
    "plt.show()"
   ]
  },
  {
   "cell_type": "code",
   "execution_count": 13,
   "metadata": {},
   "outputs": [
    {
     "data": {
      "text/plain": [
       "34589795.60487155"
      ]
     },
     "execution_count": 13,
     "metadata": {},
     "output_type": "execute_result"
    }
   ],
   "source": [
    "# overall squared error on training\n",
    "mean_squared_error(yTrain, yTrainPredict)"
   ]
  },
  {
   "cell_type": "code",
   "execution_count": 14,
   "metadata": {},
   "outputs": [
    {
     "data": {
      "image/png": "[encoded data removed]",
      "text/plain": [
       "<Figure size 576x396 with 1 Axes>"
      ]
     },
     "metadata": {},
     "output_type": "display_data"
    }
   ],
   "source": [
    "# plot predicted line for test data\n",
    "plt.scatter(xTest, yTest, color=\"red\") # original data -- trends upwards, makes sense to use lin reg here\n",
    "plt.plot(xTest, yTestPredict, color=\"blue\")\n",
    "plt.show()"
   ]
  },
  {
   "cell_type": "code",
   "execution_count": 15,
   "metadata": {},
   "outputs": [
    {
     "data": {
      "text/plain": [
       "25854706.935163725"
      ]
     },
     "execution_count": 15,
     "metadata": {},
     "output_type": "execute_result"
    }
   ],
   "source": [
    "# overall squared error on testing; \n",
    "# will *generally* be somewhat larger than training error, \n",
    "# but should be reasonably close (if we do things properly)\n",
    "# and *can* be less in some cases due to luck\n",
    "mean_squared_error(yTest, yTestPredict)"
   ]
  },
  {
   "cell_type": "markdown",
   "metadata": {},
   "source": [
    "### Building a higher-order polynomial regression\n",
    "\n",
    "We can modify our input data features to increase their dimensionality.  One way to do this is to use the `PolynomialFeatures` libary, which can transform data by adding higher-degree polynomial values for each input point."
   ]
  },
  {
   "cell_type": "code",
   "execution_count": 16,
   "metadata": {},
   "outputs": [],
   "source": [
    "# for proper plots of the higher-order values, it is necessary to first sort\n",
    "# the data by the original x-component (ensuring that the matching y-values\n",
    "# are sorted accordingly, as well)\n",
    "import operator\n",
    "sorted_zip = sorted(zip(xTrain, yTrain), key=operator.itemgetter(0))\n",
    "xTrain, yTrain = zip(*sorted_zip)"
   ]
  },
  {
   "cell_type": "code",
   "execution_count": 17,
   "metadata": {},
   "outputs": [],
   "source": [
    "# the basic degree-2 transform adds the square of the data to the original\n",
    "# (along with a bias vector of 1's for the 0th weight)"
   ]
  },
  {
   "cell_type": "code",
   "execution_count": 18,
   "metadata": {},
   "outputs": [
    {
     "data": {
      "text/plain": [
       "array([[ 1.  ,  1.3 ,  1.69],\n",
       "       [ 1.  ,  1.5 ,  2.25],\n",
       "       [ 1.  ,  2.  ,  4.  ],\n",
       "       [ 1.  ,  2.9 ,  8.41],\n",
       "       [ 1.  ,  3.  ,  9.  ],\n",
       "       [ 1.  ,  3.2 , 10.24],\n",
       "       [ 1.  ,  3.2 , 10.24],\n",
       "       [ 1.  ,  3.7 , 13.69],\n",
       "       [ 1.  ,  4.  , 16.  ],\n",
       "       [ 1.  ,  4.1 , 16.81],\n",
       "       [ 1.  ,  4.5 , 20.25],\n",
       "       [ 1.  ,  5.1 , 26.01],\n",
       "       [ 1.  ,  5.3 , 28.09],\n",
       "       [ 1.  ,  6.  , 36.  ],\n",
       "       [ 1.  ,  6.8 , 46.24],\n",
       "       [ 1.  ,  7.1 , 50.41],\n",
       "       [ 1.  ,  8.7 , 75.69],\n",
       "       [ 1.  ,  9.  , 81.  ],\n",
       "       [ 1.  ,  9.5 , 90.25],\n",
       "       [ 1.  ,  9.6 , 92.16]])"
      ]
     },
     "execution_count": 18,
     "metadata": {},
     "output_type": "execute_result"
    }
   ],
   "source": [
    "from sklearn.preprocessing import PolynomialFeatures as pf\n",
    "poly2 = pf(degree=2)\n",
    "xTrain2 = poly2.fit_transform(xTrain) \n",
    "xTrain2"
   ]
  },
  {
   "cell_type": "code",
   "execution_count": 19,
   "metadata": {},
   "outputs": [],
   "source": [
    "linReg2 = LinearRegression()\n",
    "linReg2.fit(xTrain2, yTrain)\n",
    "yTrainPredict2 = linReg2.predict(xTrain2)"
   ]
  },
  {
   "cell_type": "code",
   "execution_count": 20,
   "metadata": {},
   "outputs": [
    {
     "data": {
      "image/png": "[encoded data removed]",
      "text/plain": [
       "<Figure size 576x396 with 1 Axes>"
      ]
     },
     "metadata": {},
     "output_type": "display_data"
    }
   ],
   "source": [
    "# plot predicted line for training set\n",
    "plt.scatter(xTrain, yTrain, color='red')\n",
    "\n",
    "plt.plot(xTrain, yTrainPredict2, color='blue')\n",
    "plt.title('Salary vs Experience (Train data)')\n",
    "plt.xlabel('Years of Experience')\n",
    "plt.ylabel('Salary')\n",
    "plt.show()"
   ]
  },
  {
   "cell_type": "code",
   "execution_count": 21,
   "metadata": {},
   "outputs": [],
   "source": [
    "# while the order-2 polynomial doesn't make much difference here,\n",
    "# we can now extend things to include even higher-order terms\n",
    "poly3 = pf(degree=3)\n",
    "xTrain3 = poly3.fit_transform(xTrain)\n",
    "linearRegression3 = LinearRegression()\n",
    "linearRegression3.fit(xTrain3, yTrain)\n",
    "yTrainPredict3 = linearRegression3.predict(xTrain3)"
   ]
  },
  {
   "cell_type": "code",
   "execution_count": 22,
   "metadata": {},
   "outputs": [
    {
     "data": {
      "image/png": "[encoded data removed]",
      "text/plain": [
       "<Figure size 576x396 with 1 Axes>"
      ]
     },
     "metadata": {},
     "output_type": "display_data"
    }
   ],
   "source": [
    "# plot predicted line for training set\n",
    "plt.scatter(xTrain, yTrain, color='red')\n",
    "\n",
    "plt.plot(xTrain, yTrainPredict3, color='blue')\n",
    "plt.title('Salary vs Experience (Train data)')\n",
    "plt.xlabel('Years of Experience')\n",
    "plt.ylabel('Salary')\n",
    "plt.show()"
   ]
  },
  {
   "cell_type": "code",
   "execution_count": 23,
   "metadata": {},
   "outputs": [],
   "source": [
    "# while the order-2 polynomial doesn't make much difference here,\n",
    "# we can now extend things to include even higher-order terms\n",
    "poly10 = pf(degree=40)\n",
    "xTrain10 = poly10.fit_transform(xTrain)\n",
    "linearRegression10 = LinearRegression()\n",
    "linearRegression10.fit(xTrain10, yTrain)\n",
    "yTrainPredict10 = linearRegression10.predict(xTrain10)"
   ]
  },
  {
   "cell_type": "code",
   "execution_count": 24,
   "metadata": {},
   "outputs": [
    {
     "data": {
      "image/png": "[encoded data removed]",
      "text/plain": [
       "<Figure size 576x396 with 1 Axes>"
      ]
     },
     "metadata": {},
     "output_type": "display_data"
    }
   ],
   "source": [
    "# plot predicted line for training set\n",
    "plt.scatter(xTrain, yTrain, color='red')\n",
    "\n",
    "plt.plot(xTrain, yTrainPredict10, color='blue')\n",
    "plt.title('Salary vs Experience (Train data)')\n",
    "plt.xlabel('Years of Experience')\n",
    "plt.ylabel('Salary')\n",
    "plt.show()"
   ]
  },
  {
   "cell_type": "markdown",
   "metadata": {},
   "source": [
    "### Looking for overfitting\n",
    "\n",
    "Are polynomial transformations always a good idea?  Not so much.  As we increase the dimensions, it is increasingly possible that we move our model from a robust general solution to one that is highly overfit to the training data.  This can start to show up as training error continues to decrease, while testing error goes the other way at some point."
   ]
  },
  {
   "cell_type": "code",
   "execution_count": 25,
   "metadata": {},
   "outputs": [
    {
     "name": "stdout",
     "output_type": "stream",
     "text": [
      "Degree 01: Train: 282.617150, Test: 211.246799\n",
      "Degree 02: Train: 282.208917, Test: 211.516457\n",
      "Degree 03: Train: 245.911823, Test: 259.188065\n",
      "Degree 04: Train: 242.736287, Test: 462.717031\n",
      "Degree 05: Train: 210.350653, Test: 723.408835\n",
      "Degree 06: Train: 199.888716, Test: 3812.384267\n",
      "Degree 07: Train: 106.228205, Test: 69887.793634\n",
      "Degree 08: Train: 88.215139, Test: 5507.353136\n",
      "Degree 09: Train: 85.344557, Test: 59194.491625\n",
      "Degree 10: Train: 81.927079, Test: 18362.665866\n",
      "Degree 11: Train: 54.536715, Test: 6645043.710256\n"
     ]
    }
   ],
   "source": [
    "for i in range(1,12):\n",
    "    polyTransform = pf(degree=i)\n",
    "    xTrainTransform = polyTransform.fit_transform(xTrain)\n",
    "    xTestTransform = polyTransform.fit_transform(xTest)\n",
    "    linearRegressionModel = LinearRegression()\n",
    "    linearRegressionModel.fit(xTrainTransform, yTrain)\n",
    "    yTrainPredict = linearRegressionModel.predict(xTrainTransform)\n",
    "    yTestPredict = linearRegressionModel.predict(xTestTransform)\n",
    "    mseTrain = mean_squared_error(yTrain, yTrainPredict) / max(y)\n",
    "    mseTest = mean_squared_error(yTest, yTestPredict) / max(y)\n",
    "    print('Degree {:02d}: Train: {:f}, Test: {:f}'.format(i, mseTrain, mseTest))"
   ]
  },
  {
   "cell_type": "markdown",
   "metadata": {},
   "source": [
    "### Food for thought\n",
    "In the above code, increasing the polynomial degree even higher, to 20 or 30, can show trends that are quite different.  At some point the both sorts of error actually start to grow.  Why might that be?"
   ]
  },
  {
   "cell_type": "code",
   "execution_count": null,
   "metadata": {},
   "outputs": [],
   "source": []
  }
 ],
 "metadata": {
  "kernelspec": {
   "display_name": "Python 3",
   "language": "python",
   "name": "python3"
  },
  "language_info": {
   "codemirror_mode": {
    "name": "ipython",
    "version": 3
   },
   "file_extension": ".py",
   "mimetype": "text/x-python",
   "name": "python",
   "nbconvert_exporter": "python",
   "pygments_lexer": "ipython3",
   "version": "3.9.4"
  },
  "metadata": {
   "interpreter": {
    "hash": "0ae0b62264ea69b6090f2f96474cabf759b05546129a06aa8f2fdb2d3669d8ad"
   }
  }
 },
 "nbformat": 4,
 "nbformat_minor": 2
}
