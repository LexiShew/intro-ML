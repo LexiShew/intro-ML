{
 "cells": [
  {
   "cell_type": "markdown",
   "metadata": {},
   "source": [
    "## HW03 Code\n",
    "\n",
    "\n",
    "You will complete the following notebook, as described in the PDF for Homework 03 (included in the download with the starter code).  You will submit:\n",
    "1. This notebook file, along with your COLLABORATORS.txt file, to the Gradescope link for code.\n",
    "2. A PDF of this notebook and all of its output, once it is completed, to the Gradescope link for the PDF.\n",
    "\n",
    "\n",
    "Please report any questions to the [class Piazza page](piazza.com/tufts/summer2021/cs135).\n",
    "\n",
    "### Import required libraries."
   ]
  },
  {
   "cell_type": "code",
   "execution_count": 1,
   "metadata": {},
   "outputs": [],
   "source": [
    "import os\n",
    "import numpy as np\n",
    "import pandas as pd\n",
    "\n",
    "import warnings\n",
    "\n",
    "import sklearn.linear_model\n",
    "import sklearn.metrics\n",
    "import sklearn.calibration\n",
    "\n",
    "from matplotlib import pyplot as plt\n",
    "import seaborn as sns\n",
    "%matplotlib inline\n",
    "plt.style.use('seaborn') # pretty matplotlib plots"
   ]
  },
  {
   "cell_type": "markdown",
   "metadata": {},
   "source": [
    "### Function for later use\n",
    "This function will compute and return a confusion matrix on data, given probabilistic predictions, and a threshold to use when converting probabilities to \"firm\" predictions.\n",
    "\n",
    "***Don't change this function.***"
   ]
  },
  {
   "cell_type": "code",
   "execution_count": 2,
   "metadata": {},
   "outputs": [],
   "source": [
    "def calc_confusion_matrix_for_threshold(ytrue_N, yproba1_N, thresh=0.5):\n",
    "    ''' Compute the confusion matrix for a given probabilistic classifier and threshold\n",
    "    \n",
    "    Args\n",
    "    ----\n",
    "    ytrue_N : 1D array of floats\n",
    "        Each entry represents the binary value (0 or 1) of 'true' label of one example\n",
    "        One entry per example in current dataset\n",
    "    yproba1_N : 1D array of floats\n",
    "        Each entry represents a probability (between 0 and 1) that correct label is positive (1)\n",
    "        One entry per example in current dataset\n",
    "        Needs to be same size as ytrue_N\n",
    "    thresh : float\n",
    "        Scalar threshold for converting probabilities into hard decisions\n",
    "        Calls an example \"positive\" if yproba1 >= thresh\n",
    "        Default value reflects a majority-classification approach (class is the one that gets\n",
    "        highest probability)\n",
    "\n",
    "    Returns\n",
    "    -------\n",
    "    cm_df : Pandas DataFrame\n",
    "        Can be printed like print(cm_df) to easily display results\n",
    "    '''\n",
    "    cm = sklearn.metrics.confusion_matrix(ytrue_N, yproba1_N >= thresh)\n",
    "    cm_df = pd.DataFrame(data=cm, columns=[0, 1], index=[0, 1])\n",
    "    cm_df.columns.name = 'Predicted'\n",
    "    cm_df.index.name = 'True'\n",
    "    return cm_df"
   ]
  },
  {
   "cell_type": "markdown",
   "metadata": {},
   "source": [
    "## Cancer-Risk Screening\n",
    "\n",
    "### 1: Compute true/false positives/negatives.\n",
    "\n",
    "Complete the following code."
   ]
  },
  {
   "cell_type": "code",
   "execution_count": 3,
   "metadata": {},
   "outputs": [],
   "source": [
    "def calc_TP_TN_FP_FN(ytrue_N, yhat_N):\n",
    "    '''\n",
    "    \n",
    "    Args\n",
    "    ----\n",
    "    ytrue_N : 1D array of floats\n",
    "        Each entry represents the binary value (0 or 1) of 'true' label of one example\n",
    "        One entry per example in current dataset\n",
    "    yhat_N : 1D array of floats\n",
    "        Each entry represents a predicted binary value (either 0 or 1).\n",
    "        One entry per example in current dataset.\n",
    "        Needs to be same size as ytrue_N.\n",
    "\n",
    "    Returns\n",
    "    -------\n",
    "    TP : int\n",
    "        Number of true positives\n",
    "    TN : int\n",
    "        Number of true negatives\n",
    "    FP : int\n",
    "        Number of false positives\n",
    "    FN : int\n",
    "        Number of false negatives\n",
    "    '''\n",
    "    TP = 0.0\n",
    "    TN = 0.0\n",
    "    FP = 0.0\n",
    "    FN = 0.0\n",
    "    \n",
    "    \n",
    "    for i in range(len(ytrue_N)):\n",
    "        if ytrue_N[i] == 0 and yhat_N[i] == 0:\n",
    "            TN += 1\n",
    "        elif ytrue_N[i] == 0 and yhat_N[i] == 1:\n",
    "            FP += 1\n",
    "        elif ytrue_N[i] == 1 and yhat_N[i] == 0:\n",
    "            FN += 1\n",
    "        elif ytrue_N[i] == 1 and yhat_N[i] == 1:\n",
    "            TP += 1\n",
    "    return TP, TN, FP, FN"
   ]
  },
  {
   "cell_type": "markdown",
   "metadata": {},
   "source": [
    "#### Testing code\n",
    "The following four calls to the function above test your results.  ***Don't modify this.***"
   ]
  },
  {
   "cell_type": "code",
   "execution_count": 4,
   "metadata": {},
   "outputs": [
    {
     "data": {
      "text/plain": [
       "(0.0, 0.0, 10.0, 0.0)"
      ]
     },
     "execution_count": 4,
     "metadata": {},
     "output_type": "execute_result"
    }
   ],
   "source": [
    "all0 = np.zeros(10)\n",
    "all1 = np.ones(10)\n",
    "calc_TP_TN_FP_FN(all0, all1)"
   ]
  },
  {
   "cell_type": "code",
   "execution_count": 5,
   "metadata": {},
   "outputs": [
    {
     "data": {
      "text/plain": [
       "(0.0, 0.0, 0.0, 10.0)"
      ]
     },
     "execution_count": 5,
     "metadata": {},
     "output_type": "execute_result"
    }
   ],
   "source": [
    "calc_TP_TN_FP_FN(all1, all0)"
   ]
  },
  {
   "cell_type": "code",
   "execution_count": 6,
   "metadata": {},
   "outputs": [
    {
     "data": {
      "text/plain": [
       "(10.0, 0.0, 0.0, 0.0)"
      ]
     },
     "execution_count": 6,
     "metadata": {},
     "output_type": "execute_result"
    }
   ],
   "source": [
    "calc_TP_TN_FP_FN(all1, all1)"
   ]
  },
  {
   "cell_type": "code",
   "execution_count": 7,
   "metadata": {},
   "outputs": [
    {
     "data": {
      "text/plain": [
       "(0.0, 10.0, 0.0, 0.0)"
      ]
     },
     "execution_count": 7,
     "metadata": {},
     "output_type": "execute_result"
    }
   ],
   "source": [
    "calc_TP_TN_FP_FN(all0, all0)"
   ]
  },
  {
   "cell_type": "markdown",
   "metadata": {},
   "source": [
    "### Load the dataset.\n",
    "\n",
    "The following should ***not*** be modified.  After it runs, the various arrays it creates will contain the 2- or 3-feature input datasets."
   ]
  },
  {
   "cell_type": "code",
   "execution_count": 8,
   "metadata": {},
   "outputs": [],
   "source": [
    "# Load the x-data and y-class arrays\n",
    "x_train = np.loadtxt('./data_cancer/x_train.csv', delimiter=',', skiprows=1)\n",
    "x_test = np.loadtxt('./data_cancer/x_test.csv', delimiter=',', skiprows=1)\n",
    "\n",
    "y_train = np.loadtxt('./data_cancer/y_train.csv', delimiter=',', skiprows=1)\n",
    "y_test = np.loadtxt('./data_cancer/y_test.csv', delimiter=',', skiprows=1)"
   ]
  },
  {
   "cell_type": "markdown",
   "metadata": {},
   "source": [
    "### 2: Compute the fraction of patients with cancer.\n",
    "\n",
    "Complete the following code.  Your solution needs to ***compute*** these values from the training and testing sets (i.e., don't simply hand-count and print the values)."
   ]
  },
  {
   "cell_type": "code",
   "execution_count": 9,
   "metadata": {},
   "outputs": [
    {
     "name": "stdout",
     "output_type": "stream",
     "text": [
      "Fraction of data that has_cancer on TRAIN: 0.140\n",
      "fraction of data that has_cancer on TEST : 0.139\n"
     ]
    }
   ],
   "source": [
    "prop_cancer_train = len([i for i in range(len(y_train)) \n",
    "                         if y_train[i] == 1]) / len(y_train)\n",
    "prop_cancer_test  = len([i for i in range(len(y_test)) \n",
    "                         if y_test[i] == 1]) / len(y_test)\n",
    "\n",
    "print(\"Fraction of data that has_cancer on TRAIN: %.3f\" % prop_cancer_train)\n",
    "print(\"fraction of data that has_cancer on TEST : %.3f\" % prop_cancer_test)"
   ]
  },
  {
   "cell_type": "markdown",
   "metadata": {},
   "source": [
    "### 3: The predict-0-always baseline\n",
    "\n",
    "#### (a) Compute the accuracy of the always-0 classifier.\n",
    "\n",
    "Complete the code to compute and print the accuracy of the always-0 classifier on validation and test outputs."
   ]
  },
  {
   "cell_type": "code",
   "execution_count": 10,
   "metadata": {},
   "outputs": [
    {
     "name": "stdout",
     "output_type": "stream",
     "text": [
      "acc on TRAIN: 0.860\n",
      "acc on TEST : 0.861\n"
     ]
    }
   ],
   "source": [
    "from sklearn.metrics import accuracy_score as acc_score\n",
    "\n",
    "# since there are no positives, just use negs\n",
    "print(\"acc on TRAIN: %.3f\" % acc_score(np.zeros(len(y_train)), y_train))\n",
    "print(\"acc on TEST : %.3f\" % acc_score(np.zeros(len(y_test)), y_test))"
   ]
  },
  {
   "cell_type": "markdown",
   "metadata": {},
   "source": [
    "#### (b) Print a confusion matrix for the always-0 classifier.\n",
    "\n",
    "Add code below to generate a confusion matrix for the always-0 classifier on the test set."
   ]
  },
  {
   "cell_type": "code",
   "execution_count": 11,
   "metadata": {},
   "outputs": [
    {
     "name": "stdout",
     "output_type": "stream",
     "text": [
      "Predicted    0  1\n",
      "True             \n",
      "0          155  0\n",
      "1           25  0\n"
     ]
    }
   ],
   "source": [
    "# TODO: call print(calc_confusion_matrix_for_threshold(...))\n",
    "print(calc_confusion_matrix_for_threshold(y_test, np.zeros(len(y_test))))"
   ]
  },
  {
   "cell_type": "markdown",
   "metadata": {},
   "source": [
    "#### (c) Reflect on the accuracy of the always-0 classifier.\n",
    "\n",
    "**Answer**: Though the always-0 classifier gives pretty decent accuracy, it's always pretty useless. The goal of the classifier is to indicate if a patient has cancer (1) or doesnt (0). If doctors see that the patient's data outputs a 0, they'll assume that the patient doesn't have cancer -- which is dangerous for the patient and doesn't help the doctor at all. In most classification problems where one class is rare (such as 1 in the data), the model will yield remarkably good results by placing all data in the dominant class, but that doesn't give the user any useful insight into patterns underlying the data. "
   ]
  },
  {
   "cell_type": "markdown",
   "metadata": {},
   "source": [
    "#### (d) Analyze the various costs of using the always-0 classifier.\n",
    "\n",
    "\n",
    "**Answer**: This model will have a large cost in the form of misdiagnosis. If doctors use the prediction of this model as the sole scan for cancer, every patient that does actually have cancer is going to be misdiagnosed. With this comes the costs of...\n",
    "- wasting time that could be spent on treatment\n",
    "- if the cancer progress, wasting years that the individual could have had to live\n",
    "- increased spending on more expensive cancer treatments later on\n",
    "If I were in charge of making cancer prognoses, I would not recommend using this predictor because the false negative rate is far too high to be useful."
   ]
  },
  {
   "cell_type": "markdown",
   "metadata": {},
   "source": [
    "### 4: Basic Perceptron Models\n",
    "\n",
    "#### (a) Create a basic `Perceptron` classifier\n",
    "\n",
    "Fit a perceptron to the training data.  Print out accuracy on this data, as well as on testing data.  Print out a confusion matrix on the testing data."
   ]
  },
  {
   "cell_type": "code",
   "execution_count": 12,
   "metadata": {},
   "outputs": [
    {
     "name": "stdout",
     "output_type": "stream",
     "text": [
      "acc on TRAIN: 0.860\n",
      "acc on TEST : 0.839\n",
      "Predicted    0   1\n",
      "True              \n",
      "0          134  21\n",
      "1            8  17\n"
     ]
    }
   ],
   "source": [
    "def normalize(x_data):\n",
    "    x = x_data.copy()\n",
    "    x = (x - x.min()) / (x.max() - x.min())\n",
    "    return x\n",
    "\n",
    "perceptron = sklearn.linear_model.Perceptron()\n",
    "perceptron.fit(normalize(x_train), y_train)\n",
    "\n",
    "y_train_predict = perceptron.predict(normalize(x_train))\n",
    "y_test_predict = perceptron.predict(normalize(x_test))\n",
    "print(\"acc on TRAIN: %.3f\" % acc_score(y_train, y_train_predict))\n",
    "print(\"acc on TEST : %.3f\" % acc_score(y_test, y_test_predict))\n",
    "print(calc_confusion_matrix_for_threshold(y_test, y_test_predict))"
   ]
  },
  {
   "cell_type": "markdown",
   "metadata": {},
   "source": [
    "#### (b) Compare the `Perceptron` to the always-0 classifier.\n",
    "\n",
    "**Answer**: \n",
    "The accuracy of the Perceptron is lower than the accuracy of the always-0 classifier: 0.839 vs. 0.861; however, accuracy shouldn't be the only factor used to evaluate these models. The always-0 classifier misdiagnoses 100% of patients with cancer, while the Perceptron misdiagnoses only 32% of patients with cancer. The Perceptron also misdiagnoses some patients that don't have cancer, but it's safer have more false positives and to run more tests than it is to let the cancer progress. So, the Perceptron is a more useful model than the always-0 classifier."
   ]
  },
  {
   "cell_type": "markdown",
   "metadata": {},
   "source": [
    "#### (c) Generate a series of regularized perceptron models\n",
    "Each model will use a different `alpha` value, multiplying that by the L2 penalty.  You will record and plot the accuracy of each model on both training and test data."
   ]
  },
  {
   "cell_type": "code",
   "execution_count": 13,
   "metadata": {},
   "outputs": [],
   "source": [
    "train_accuracy_list = list()\n",
    "test_accuracy_list = list()\n",
    "\n",
    "# TODO: create, fit models here and record accuracy of each\n",
    "alphas = np.logspace(-5, 5, base=10, num=100)\n",
    "\n",
    "for a in alphas:\n",
    "    perceptron = sklearn.linear_model.Perceptron(penalty='l2', alpha=a)\n",
    "    perceptron.fit(normalize(x_train), y_train)\n",
    "    y_train_predict = perceptron.predict(normalize(x_train))\n",
    "    y_test_predict = perceptron.predict(normalize(x_test))\n",
    "    \n",
    "    train_accuracy_list.append(acc_score(y_train_predict, y_train))\n",
    "    test_accuracy_list.append(acc_score(y_test_predict, y_test))"
   ]
  },
  {
   "cell_type": "markdown",
   "metadata": {},
   "source": [
    "##### Plot accuracy on train/test data across the different alpha values."
   ]
  },
  {
   "cell_type": "code",
   "execution_count": 14,
   "metadata": {},
   "outputs": [
    {
     "name": "stdout",
     "output_type": "stream",
     "text": [
      "\n"
     ]
    },
    {
     "data": {
      "image/png": "[encoded data removed]",
      "text/plain": [
       "<Figure size 576x396 with 1 Axes>"
      ]
     },
     "metadata": {},
     "output_type": "display_data"
    }
   ],
   "source": [
    "# TODO make plot\n",
    "plt.scatter(alphas, train_accuracy_list, label='train', color='red')\n",
    "plt.scatter(alphas, test_accuracy_list, label='test', color='blue')\n",
    "plt.xlabel('log_10(alpha)');\n",
    "plt.ylabel('Accuracy');\n",
    "plt.xscale('log')\n",
    "\n",
    "# TODO add legend, titles, etc.\n",
    "plt.legend();\n",
    "\n",
    "print()"
   ]
  },
  {
   "cell_type": "markdown",
   "metadata": {},
   "source": [
    "#### (d) Discuss what the plot is showing you.\n",
    "\n",
    "**Answer**: Starting with low alpha values, there's a lot of variablity in the accuracy of the model, especially for the test data. This is because the data is quite variable and isn't linearly separable, so increasing the strength of the penalty, which changes the classifier, will change the classification of lots of datum. Later on, at about log10(alpha) = 10^-3, the penalty for adjusting the diving line is high enough that the classifier defaults to the always-0 classifier, which, as previously discussed, doens't fulfill the goal of the model very well. And, to reiterate, the accuracy isn't the best metric with which to evaluate the efficacy of the model."
   ]
  },
  {
   "cell_type": "markdown",
   "metadata": {},
   "source": [
    "### 5: Decision functions and probabilistic predictions\n",
    "\n",
    "#### (a) Create two new sets of predictions\n",
    "\n",
    "Fit `Perceptron` and `CalibratedClassifierCV` models to the data.  Use their predictions to generate ROC curves. "
   ]
  },
  {
   "cell_type": "code",
   "execution_count": 15,
   "metadata": {},
   "outputs": [],
   "source": [
    "# TODO: fit a Perceptron and generate its decision_function() over the test data.\n",
    "\n",
    "perceptron = sklearn.linear_model.Perceptron()\n",
    "perceptron = perceptron.fit(normalize(x_train), y_train)\n",
    "perceptron_proba = perceptron.decision_function(normalize(x_test))\n",
    "perceptron_discrete = perceptron.predict(normalize(x_test))\n",
    "\n",
    "\n",
    "# TODO: Build a CalibratedClassifierCV, using a Perceptron as its base_estimator, \n",
    "#       and generate its probabilistic predictions over the test data.\n",
    "\n",
    "\n",
    "cv = sklearn.calibration.CalibratedClassifierCV(base_estimator=perceptron, method='isotonic')\n",
    "cv = cv.fit(normalize(x_train), y_train)\n",
    "cv_proba = cv.predict_proba(normalize(x_test))[:,1]  "
   ]
  },
  {
   "cell_type": "code",
   "execution_count": 32,
   "metadata": {},
   "outputs": [
    {
     "data": {
      "image/png": "[encoded data removed]",
      "text/plain": [
       "<Figure size 576x396 with 1 Axes>"
      ]
     },
     "metadata": {},
     "output_type": "display_data"
    }
   ],
   "source": [
    "# TODO something like: fpr, tpr, thr = sklearn.metrics.roc_curve(...)\n",
    "\n",
    "fpr, tpr, thr = sklearn.metrics.roc_curve(y_test, perceptron_proba)\n",
    "plt.plot(fpr, tpr, label='Perceptron (Probabilities)', color='blue')\n",
    "\n",
    "fpr, tpr, thr = sklearn.metrics.roc_curve(y_test, perceptron_discrete)\n",
    "plt.plot(fpr, tpr, label='Perceptron (Discrete Values)', color='dodgerblue')\n",
    "\n",
    "fpr, tpr, thr = sklearn.metrics.roc_curve(y_test, cv_proba)\n",
    "plt.plot(fpr, tpr, label='Calibrated Classifier CV', color='red')\n",
    "\n",
    "plt.ylim([0, 1]);\n",
    "plt.xlabel(\"False Postive rate (FPR)\");\n",
    "plt.ylabel(\"True Postive rate (TPR)\");\n",
    "plt.legend();"
   ]
  },
  {
   "cell_type": "code",
   "execution_count": 17,
   "metadata": {},
   "outputs": [
    {
     "name": "stdout",
     "output_type": "stream",
     "text": [
      "AUC on TEST for Perceptron: 0.891\n",
      "AUC on TEST for probabilistic model: 0.885\n"
     ]
    }
   ],
   "source": [
    "print(\"AUC on TEST for Perceptron: %.3f\" % sklearn.metrics.roc_auc_score(y_test, perceptron_proba))\n",
    "print(\"AUC on TEST for probabilistic model: %.3f\" % sklearn.metrics.roc_auc_score(y_test, cv_proba))"
   ]
  },
  {
   "cell_type": "markdown",
   "metadata": {},
   "source": [
    "#### (b) Discuss the results above\n",
    "\n",
    "**Answer**: Overall, the perceptron does better. The AUC for the perceptron is slightly higher, which means that it has a smaller increase in false positives per increase in true positives (meaning fewer people without cancer are incorrectly told they have it). Additionally, for most values of TPR, the perceptron has a lower FPR.But in general, the models are pretty similar, which makes sense because the ClassifierCv uses the decision function of a perceptron for training."
   ]
  },
  {
   "cell_type": "markdown",
   "metadata": {},
   "source": [
    "#### (c) Compute model metrics for different probabilistic thresholds\n",
    "\n",
    "Complete the function that takes in a set of correct outputs, a matching set of probabilities generated by a classifier, and a threshold at which to set the positive decision probability, and returns a set of metrics if we use that threshold."
   ]
  },
  {
   "cell_type": "code",
   "execution_count": 18,
   "metadata": {},
   "outputs": [],
   "source": [
    "def calc_perf_metrics_for_threshold(ytrue_N, yproba1_N, thresh=0.5):\n",
    "    ''' Compute performance metrics for a given probabilistic classifier and threshold\n",
    "    Args\n",
    "    ----\n",
    "    ytrue_N : 1D array of floats\n",
    "        Each entry represents the binary value (0 or 1) of 'true' label of one example\n",
    "        One entry per example in current dataset\n",
    "    yproba1_N : 1D array of floats\n",
    "        Each entry represents a probability (between 0 and 1) that correct label is positive (1)\n",
    "        One entry per example in current dataset\n",
    "        Needs to be same size as ytrue_N\n",
    "    thresh : float\n",
    "        Scalar threshold for converting probabilities into hard decisions\n",
    "        Calls an example \"positive\" if yproba1 >= thresh\n",
    "        Default value reflects a majority-classification approach (class is the one that gets\n",
    "        highest probability)\n",
    "\n",
    "    Returns\n",
    "    -------\n",
    "    acc : accuracy of predictions\n",
    "    tpr : true positive rate of predictions\n",
    "    tnr : true negative rate of predictions\n",
    "    ppv : positive predictive value of predictions\n",
    "    npv : negative predictive value of predictions\n",
    "    '''\n",
    "    pred_y = list()\n",
    "    for i in yproba1_N:\n",
    "        pred_y.append(1 if i > thresh else 0)\n",
    "    \n",
    "    TP, TN, FP, FN = calc_TP_TN_FP_FN(ytrue_N, pred_y)\n",
    "    \n",
    "    # TODO: fix this\n",
    "    acc = acc_score(ytrue_N, pred_y)\n",
    "    tpr = TP / (TP + FN) if (TP + FN > 0) else 0\n",
    "    tnr =  TN / (TN + FP) if (TN + FP > 0) else 0\n",
    "    ppv = TP / (TP + FP) if (TP + FP > 0) else 0\n",
    "    npv = TN / (TN + FN) if (TN + FN > 0) else 0\n",
    "    \n",
    "    return acc, tpr, tnr, ppv, npv\n",
    "\n",
    "# You can use this function later to make printing results easier; don't change it.\n",
    "def print_perf_metrics_for_threshold(ytrue_N, yproba1_N, thresh=0.5):\n",
    "    ''' Pretty print perf. metrics for a given probabilistic classifier and threshold\n",
    "    '''\n",
    "    acc, tpr, tnr, ppv, npv = calc_perf_metrics_for_threshold(ytrue_N, yproba1_N, thresh)\n",
    "    \n",
    "    ## Pretty print the results\n",
    "    print(\"%.3f ACC\" % acc)\n",
    "    print(\"%.3f TPR\" % tpr)\n",
    "    print(\"%.3f TNR\" % tnr)\n",
    "    print(\"%.3f PPV\" % ppv)\n",
    "    print(\"%.3f NPV\" % npv)"
   ]
  },
  {
   "cell_type": "markdown",
   "metadata": {},
   "source": [
    "#### (d) Compare the probabilistic classifier across multiple decision thresholds\n",
    "\n",
    "Try a range of thresholds for classifying data into the positive class (1).  For each threshold, compute the true postive rate (TPR) and positive predictive value (PPV).  Record the best value of each metric, along with the threshold that achieves it, and the *other* metric at that threshold."
   ]
  },
  {
   "cell_type": "code",
   "execution_count": 19,
   "metadata": {},
   "outputs": [],
   "source": [
    "# TODO: test different thresholds to compute these values\n",
    "\n",
    "best_TPR = 0\n",
    "best_PPV_for_best_TPR = 0\n",
    "best_TPR_threshold = 0\n",
    "\n",
    "thresholds = np.linspace(0, 1.001, 51)\n",
    "for i in range(len(thresholds)):\n",
    "    acc, tpr, tnr, ppv, npv = calc_perf_metrics_for_threshold(y_test, cv_proba, thresholds[i])\n",
    "    if tpr >= best_TPR:\n",
    "        best_TPR = tpr\n",
    "        best_PPV_for_best_TPR = 0\n",
    "        best_TPR_threshold = 0\n",
    "    if tpr == best_TPR and ppv > best_PPV_for_best_TPR:\n",
    "        best_PPV_for_best_TPR = ppv\n",
    "        best_TPR_threshold = thresholds[i]\n",
    "        \n",
    "best_PPV = 0\n",
    "best_TPR_for_best_PPV = 0  \n",
    "best_PPV_threshold = 0\n",
    "\n",
    "thresholds = np.linspace(0, 1.001, 51)\n",
    "for i in range(len(thresholds)):\n",
    "    acc, tpr, tnr, ppv, npv = calc_perf_metrics_for_threshold(y_test, cv_proba, thresholds[i])\n",
    "    if ppv >= best_PPV:\n",
    "        best_PPV = ppv\n",
    "        best_TPR_for_best_PPV = 0  \n",
    "        best_PPV_threshold = 0\n",
    "    if ppv == best_PPV and tpr >= best_TPR_for_best_PPV:\n",
    "        best_TPR_for_best_PPV = tpr\n",
    "        best_PPV_threshold = thresholds[i]"
   ]
  },
  {
   "cell_type": "code",
   "execution_count": 20,
   "metadata": {},
   "outputs": [
    {
     "name": "stdout",
     "output_type": "stream",
     "text": [
      "TPR threshold: 0.0601 => TPR: 1.0000; PPV: 0.2119\n",
      "PPV threshold: 0.6607 => PPV: 0.7000; TPR: 0.2800\n"
     ]
    }
   ],
   "source": [
    "print(\"TPR threshold: %.4f => TPR: %.4f; PPV: %.4f\" % (best_TPR_threshold, best_TPR, best_PPV_for_best_TPR))\n",
    "print(\"PPV threshold: %.4f => PPV: %.4f; TPR: %.4f\" % (best_PPV_threshold, best_PPV, best_TPR_for_best_PPV))"
   ]
  },
  {
   "cell_type": "markdown",
   "metadata": {},
   "source": [
    "#### (e) Exploring diffrerent thresholds\n",
    "\n",
    "#### (i) Using default 0.5 threshold. \n",
    "\n",
    "Generate confusion matrix and metrics for probabilistic classifier, using threshold 0.5."
   ]
  },
  {
   "cell_type": "code",
   "execution_count": 21,
   "metadata": {},
   "outputs": [
    {
     "name": "stdout",
     "output_type": "stream",
     "text": [
      "ON THE TEST SET:\n",
      "Chosen best threshold = 0.5000\n",
      "\n",
      "Predicted    0   1\n",
      "True              \n",
      "0          149   6\n",
      "1           14  11\n",
      "\n",
      "0.889 ACC\n",
      "0.440 TPR\n",
      "0.961 TNR\n",
      "0.647 PPV\n",
      "0.914 NPV\n"
     ]
    }
   ],
   "source": [
    "best_thr = 0.5\n",
    "print(\"ON THE TEST SET:\")\n",
    "print(\"Chosen best threshold = %.4f\" % best_thr)\n",
    "print(\"\")\n",
    "# TODO: print(calc_confusion_matrix_for_threshold(...))\n",
    "print(calc_confusion_matrix_for_threshold(y_test, cv_proba, best_thr))\n",
    "print(\"\")\n",
    "# TODO: print_perf_metrics_for_threshold(...)\n",
    "print_perf_metrics_for_threshold(y_test, cv_proba, best_thr)"
   ]
  },
  {
   "cell_type": "markdown",
   "metadata": {},
   "source": [
    "#### (ii) Using threshold with highest TPR. \n",
    "\n",
    "Generate confusion matrix and metrics for probabilistic classifier, using threshold that maximizes TPR."
   ]
  },
  {
   "cell_type": "code",
   "execution_count": 22,
   "metadata": {},
   "outputs": [
    {
     "name": "stdout",
     "output_type": "stream",
     "text": [
      "ON THE TEST SET:\n",
      "Chosen best threshold = 0.0601\n",
      "\n",
      "Predicted   0   1\n",
      "True             \n",
      "0          62  93\n",
      "1           0  25\n",
      "\n",
      "0.483 ACC\n",
      "1.000 TPR\n",
      "0.400 TNR\n",
      "0.212 PPV\n",
      "1.000 NPV\n"
     ]
    }
   ],
   "source": [
    "best_thr = best_TPR_threshold\n",
    "print(\"ON THE TEST SET:\")\n",
    "print(\"Chosen best threshold = %.4f\" % best_thr)\n",
    "print(\"\")\n",
    "# TODO: print(calc_confusion_matrix_for_threshold(...))\n",
    "print(calc_confusion_matrix_for_threshold(y_test, cv_proba, best_thr))\n",
    "print(\"\")\n",
    "# TODO: print_perf_metrics_for_threshold(...)\n",
    "print_perf_metrics_for_threshold(y_test, cv_proba, best_thr)"
   ]
  },
  {
   "cell_type": "markdown",
   "metadata": {},
   "source": [
    "#### (iii) Using threshold with highest PPV. \n",
    "\n",
    "Generate confusion matrix and metrics for probabilistic classifier, using threshold that maximizes PPV."
   ]
  },
  {
   "cell_type": "code",
   "execution_count": 23,
   "metadata": {},
   "outputs": [
    {
     "name": "stdout",
     "output_type": "stream",
     "text": [
      "ON THE TEST SET:\n",
      "Chosen best threshold = 0.6607\n",
      "\n",
      "Predicted    0  1\n",
      "True             \n",
      "0          152  3\n",
      "1           18  7\n",
      "\n",
      "0.883 ACC\n",
      "0.280 TPR\n",
      "0.981 TNR\n",
      "0.700 PPV\n",
      "0.894 NPV\n"
     ]
    }
   ],
   "source": [
    "best_thr = best_PPV_threshold\n",
    "print(\"ON THE TEST SET:\")\n",
    "print(\"Chosen best threshold = %.4f\" % best_thr)\n",
    "print(\"\")\n",
    "# TODO: print(calc_confusion_matrix_for_threshold(...))\n",
    "print(calc_confusion_matrix_for_threshold(y_test, cv_proba, best_thr))\n",
    "print(\"\")\n",
    "# TODO: print_perf_metrics_for_threshold(...)\n",
    "print_perf_metrics_for_threshold(y_test, cv_proba, best_thr)"
   ]
  },
  {
   "cell_type": "markdown",
   "metadata": {},
   "source": [
    "#### (iv) Compare the confusion matrices from (a)–(c) to analyze the different thresholds.\n",
    "\n",
    "**Answer**: If I were to use one of these thresholds, I would use the model with the lowest false negative rate. The threshold with the highest TPR also has the lowest FPR -- 0% on the test data -- meaning that anyone who gets a 0 doesn't have cancer, with no uncertainty. This model severly overestimates the number of people who have cancer, and thus has a low accuracy, but doens't risk patients going off falsely thinking they don't have cancer. The goal of this model is to reduce painful biopsies, and for 34% of patients this works. For the 51% of patients that get a positive but don't actually have cancer, it's better to be certain than to be misdiagnosed.\n",
    "If we used a model with higher accuracy, there would be far more people who don't undergo biopsies but do actually have cancer, which is pretty scary -- it's far better to undergo a painful biopsy than to not know you have cancer."
   ]
  },
  {
   "cell_type": "code",
   "execution_count": null,
   "metadata": {},
   "outputs": [],
   "source": []
  }
 ],
 "metadata": {
  "kernelspec": {
   "display_name": "Python 3",
   "language": "python",
   "name": "python3"
  },
  "language_info": {
   "codemirror_mode": {
    "name": "ipython",
    "version": 3
   },
   "file_extension": ".py",
   "mimetype": "text/x-python",
   "name": "python",
   "nbconvert_exporter": "python",
   "pygments_lexer": "ipython3",
   "version": "3.7.10"
  }
 },
 "nbformat": 4,
 "nbformat_minor": 2
}
