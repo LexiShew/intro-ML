{
 "cells": [
  {
   "cell_type": "code",
   "execution_count": 3,
   "id": "e1e7cfd4",
   "metadata": {},
   "outputs": [],
   "source": [
    "import hw1\n",
    "import numpy as np\n",
    "\n",
    "array = np.arange(50).reshape(10, 5)\n",
    "\n",
    "train, test = hw1.split_into_train_and_test(array, frac_test=0.7, random_state=4)\n",
    "\n",
    "# print('train:\\n', train)\n",
    "# print('\\ntest:\\n', test)\n",
    "# print('\\noriginal:\\n', array)"
   ]
  },
  {
   "cell_type": "code",
   "execution_count": 19,
   "id": "79812481",
   "metadata": {},
   "outputs": [
    {
     "name": "stdout",
     "output_type": "stream",
     "text": [
      "[2. 4.]\n"
     ]
    }
   ],
   "source": [
    "import numpy as np\n",
    "dtype = [('a', np.ndarray),('b', float)]\n",
    "value_a = (np.arange(3), 4)\n",
    "value_b = (np.arange(4), 2)\n",
    "x = np.array([value_a, value_b],dtype=dtype)\n",
    "x = np.sort(x['b'])\n",
    "print(x)"
   ]
  },
  {
   "cell_type": "raw",
   "id": "8b03ee5e",
   "metadata": {},
   "source": [
    "Q = query_QF.shape[0]\n",
    "    print('Q:', query_QF.shape)\n",
    "    N = data_NF.shape[0]\n",
    "    print('N:', data_NF.shape)\n",
    "    F = query_QF.shape[1]\n",
    "    print('F:', query_QF.shape, '\\n\\n\\n')\n",
    "    global neighb_QKF\n",
    "    \n",
    "    for q in range(0, Q):        \n",
    "        dist_dict = {}\n",
    "        print('q{}: {}'.format(q, query_QF[q]))\n",
    "        for n in range(0, N):\n",
    "            sum = 0\n",
    "            for f in range(0, F):\n",
    "                sum += (query_QF[q][f]-data_NF[n][f]) * (query_QF[q][f]-data_NF[n][f])\n",
    "            distance = np.sqrt(sum)\n",
    "            print(\"   n{}: {} w dist = {}\".format(n, data_NF[n], distance))\n",
    "            dist_dict[n] = distance\n",
    "            \n",
    "        n_list = list(dict(sorted(dist_dict.items(), key=lambda x: x[1])).keys())\n",
    "        print('   n_list:      ', n_list)\n",
    "        while len(n_list) != K:\n",
    "            n_list.pop(K)\n",
    "        print('   n_list len=K:', n_list)\n",
    "        \n",
    "        global K_array\n",
    "        for i in range(len(n_list)):\n",
    "            print('   neighbor:    ', data_NF[n_list[i]])\n",
    "            if i == 0:\n",
    "                K_array = np.array([data_NF[n_list[i]]])\n",
    "            else:\n",
    "                K_array = np.append(K_array, data_NF[n_list[i]])\n",
    "                \n",
    "        if q == 0:\n",
    "            neighb_QKF = np.array([K_array])\n",
    "        else:\n",
    "            neighb_QKF = np.append(neighb_QKF, K_array)\n",
    "        print()        \n",
    "    \n",
    "    return neighb_QKF.reshape(Q, K, F)\n"
   ]
  },
  {
   "cell_type": "code",
   "execution_count": 1,
   "id": "11f5cf55",
   "metadata": {},
   "outputs": [
    {
     "name": "stdout",
     "output_type": "stream",
     "text": [
      "data:\n",
      " [[ 0  3  6]\n",
      " [ 9 12 15]\n",
      " [18 21 24]\n",
      " [27 30 33]]\n",
      "query:\n",
      " [[ 0  2  4]\n",
      " [ 6  8 10]\n",
      " [12 14 16]\n",
      " [18 20 22]\n",
      " [24 26 28]] \n",
      "\n",
      "[[[ 0  3  6]\n",
      "  [ 9 12 15]]\n",
      "\n",
      " [[ 9 12 15]\n",
      "  [ 0  3  6]]\n",
      "\n",
      " [[ 9 12 15]\n",
      "  [18 21 24]]\n",
      "\n",
      " [[18 21 24]\n",
      "  [ 9 12 15]]\n",
      "\n",
      " [[27 30 33]\n",
      "  [18 21 24]]]\n"
     ]
    }
   ],
   "source": [
    "import hw1\n",
    "import numpy as np\n",
    "\n",
    "data = np.arange(0, 36, 3).reshape(4, 3)\n",
    "print('data:\\n', data)\n",
    "query = np.arange(0, 30, 2).reshape(5, 3)\n",
    "print('query:\\n', query, '\\n')\n",
    "\n",
    "print(hw1.calc_k_nearest_neighbors(data, query, 2))"
   ]
  },
  {
   "cell_type": "code",
   "execution_count": null,
   "id": "ea17fa9c",
   "metadata": {},
   "outputs": [],
   "source": []
  }
 ],
 "metadata": {
  "kernelspec": {
   "display_name": "Python 3",
   "language": "python",
   "name": "python3"
  },
  "language_info": {
   "codemirror_mode": {
    "name": "ipython",
    "version": 3
   },
   "file_extension": ".py",
   "mimetype": "text/x-python",
   "name": "python",
   "nbconvert_exporter": "python",
   "pygments_lexer": "ipython3",
   "version": "3.9.4"
  }
 },
 "nbformat": 4,
 "nbformat_minor": 5
}
