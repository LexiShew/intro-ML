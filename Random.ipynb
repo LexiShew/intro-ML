{
 "cells": [
  {
   "cell_type": "code",
   "execution_count": 4,
   "id": "61f61fff",
   "metadata": {},
   "outputs": [
    {
     "name": "stdout",
     "output_type": "stream",
     "text": [
      "\n",
      "*\n",
      "**\n",
      "***\n",
      "****\n",
      "*****\n",
      "******\n",
      "*******\n",
      "********\n"
     ]
    }
   ],
   "source": [
    "for i in range(1, 10):\n",
    "    for j in range(1, i):\n",
    "        print('*', end =\"\")\n",
    "    print()"
   ]
  },
  {
   "cell_type": "code",
   "execution_count": 13,
   "id": "83dc6989",
   "metadata": {},
   "outputs": [
    {
     "name": "stdout",
     "output_type": "stream",
     "text": [
      "Hello there\n",
      "ereht olleH\n",
      "Hey\n",
      "yeH\n",
      "done\n"
     ]
    }
   ],
   "source": [
    "text = input()\n",
    "\n",
    "while (text != 'Done') and (text != 'done') and (text != 'd'):\n",
    "    for i in range(len(text)):\n",
    "        print(text[len(text) - 1 - i], end='')\n",
    "    print()\n",
    "    text = input()\n",
    "    "
   ]
  },
  {
   "cell_type": "code",
   "execution_count": 3,
   "id": "2b2f57dd",
   "metadata": {},
   "outputs": [
    {
     "output_type": "stream",
     "name": "stdout",
     "text": [
      "          Exam1     Exam2     Exam3     Exam4\nExam1  1.000000  0.078613  0.256859  0.261306\nExam2  0.078613  1.000000  0.271642  0.318124\nExam3  0.256859  0.271642  1.000000  0.277656\nExam4  0.261306  0.318124  0.277656  1.000000\n"
     ]
    }
   ],
   "source": [
    "import pandas as pd\n",
    "scores = pd.rread_csv(\"http://data-analytics.zybooks.com/ExamScores.csv\")\n",
    "prinnt(scores[['Exam1', 'Exam2', 'Exam3', 'Exam4']].corr())"
   ]
  },
  {
   "cell_type": "code",
   "execution_count": 13,
   "metadata": {},
   "outputs": [
    {
     "output_type": "stream",
     "name": "stdout",
     "text": [
      "[[  5.5 115.   -3. ]\n [  5.7 325.    4. ]\n [  6.8 205.    0. ]]\n[  5.5 115.   -3. ]\n"
     ]
    },
    {
     "output_type": "execute_result",
     "data": {
      "text/plain": [
       "array([[0.        , 0.        , 0.        ],\n",
       "       [0.15384615, 1.        , 1.        ],\n",
       "       [1.        , 0.42857143, 0.42857143]])"
      ]
     },
     "metadata": {},
     "execution_count": 13
    }
   ],
   "source": [
    "import sklearn.preprocessing as preproc\n",
    "import numpy as np\n",
    "\n",
    "data = np.array([5.5, 115, -3, 5.7, 325, 4, 6.8, 205, 0]).reshape(-1, 3)\n",
    "print(data)\n",
    "print(data.min(axis=0))\n",
    "\n",
    "scaler = preproc.MinMaxScaler()\n",
    "scaler.fit_transform(data)"
   ]
  },
  {
   "cell_type": "code",
   "execution_count": null,
   "metadata": {},
   "outputs": [],
   "source": []
  }
 ],
 "metadata": {
  "kernelspec": {
   "name": "python3",
   "display_name": "Python 3.8.10 64-bit ('ml_env': conda)"
  },
  "interpreter": {
   "hash": "5488065bb2d6ca6a9de5ec6734160292494259bd2c5abc9e8432ae79ff9e5079"
  }
 },
 "nbformat": 4,
 "nbformat_minor": 5
}