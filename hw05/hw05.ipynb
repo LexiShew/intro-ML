{
 "cells": [
  {
   "cell_type": "markdown",
   "source": [
    "## Name and ID\r\n",
    "* Name: Lexi Shewchuk (ashewc01)\r\n",
    "* ID: 1331654"
   ],
   "metadata": {}
  },
  {
   "cell_type": "markdown",
   "source": [
    "## HW05 Code\n",
    "\n",
    "\n",
    "You will complete the following notebook, as described in the PDF for Homework 05 (included in the download with the starter code).  You will submit:\n",
    "1. This notebook file, along with your COLLABORATORS.txt file and the two tree images (PDFs generated using `graphviz` within the code), to the Gradescope link for code.\n",
    "2. A PDF of this notebook and all of its output, once it is completed, to the Gradescope link for the PDF.\n",
    "\n",
    "\n",
    "Please report any questions to the [class Piazza page](https://piazza.com/tufts/spring2021/comp135).\n",
    "\n",
    "### Import required libraries."
   ],
   "metadata": {}
  },
  {
   "cell_type": "code",
   "execution_count": 28,
   "source": [
    "import numpy as np\r\n",
    "import pandas as pd\r\n",
    "\r\n",
    "import sklearn.tree\r\n",
    "import graphviz"
   ],
   "outputs": [],
   "metadata": {}
  },
  {
   "cell_type": "markdown",
   "source": [
    "## Decision Trees\n",
    "\n",
    "You should start by computing the two heuristic values for the toy data described in the assignment handout. You should then load the two versions of the abalone data, compute the two heuristic values on features (for the simplified data), and then build decision trees for each set of data."
   ],
   "metadata": {}
  },
  {
   "cell_type": "markdown",
   "source": [
    "### 1 Compute both heuristics for toy data."
   ],
   "metadata": {}
  },
  {
   "cell_type": "markdown",
   "source": [
    "#### (a) Compute the counting-based heuristic, and order the features by it."
   ],
   "metadata": {}
  },
  {
   "cell_type": "code",
   "execution_count": 29,
   "source": [
    "#          A                                       B\r\n",
    "#        /   \\                                   /   \\\r\n",
    "#    True     False                           True   False\r\n",
    "#   100% O     33% O                         75% O     25% O\r\n",
    "#   0%   X     67% X                         25% X     75% X\r\n",
    "#       \r\n",
    "# If A = True,  guess O                    If B = True,  guess O\r\n",
    "#    A = False, guess X                       B = False, guess X\r\n",
    "#\r\n",
    "# correct:                                 correct:\r\n",
    "#   A = True:  2/2                           B = True:  3/4\r\n",
    "#   A = False: 4/6                           B = False: 3/4\r\n",
    "# score = 6/8                              score = 6/8\r\n",
    "\r\n",
    "def score(X_t, O_t, X_f, O_f):\r\n",
    "    score = 0\r\n",
    "\r\n",
    "    percent_t_X = X_t / (X_t + O_t)\r\n",
    "    percent_t_O = O_t / (X_t + O_t)\r\n",
    "    if percent_t_X > percent_t_O:\r\n",
    "        score += X_t\r\n",
    "    else:\r\n",
    "        score += O_t\r\n",
    "\r\n",
    "    percent_f_X = X_f / (X_f + O_f)\r\n",
    "    percent_f_O = O_f / (X_f + O_f)\r\n",
    "    if percent_f_X > percent_f_O:\r\n",
    "        score += X_f\r\n",
    "    else:\r\n",
    "        score += O_f\r\n",
    "    \r\n",
    "    return score\r\n",
    "    \r\n",
    "\r\n",
    "\r\n",
    "print('A: {}/{}'.format(score(0, 2, 4, 2), 8))\r\n",
    "print('B: {}/{}'.format(score(1, 3, 3, 1), 8))"
   ],
   "outputs": [
    {
     "output_type": "stream",
     "name": "stdout",
     "text": [
      "A: 6/8\n",
      "B: 6/8\n"
     ]
    }
   ],
   "metadata": {}
  },
  {
   "cell_type": "markdown",
   "source": [
    "#### (b) Compute the information-theoretic heuristic, and order the features by it."
   ],
   "metadata": {}
  },
  {
   "cell_type": "code",
   "execution_count": 30,
   "source": [
    "import math\r\n",
    "\r\n",
    "def entropy(num_X, num_O):\r\n",
    "    total = num_X + num_O\r\n",
    "    X_prop = num_X/total if num_X > 0 else 1\r\n",
    "    O_prop = num_O/total if num_O > 0 else 1\r\n",
    "    return -1 * (num_X/total*math.log(X_prop, 2) + num_O/total * math.log(O_prop, 2))\r\n",
    "\r\n",
    "def gain(X_t, O_t, X_f, O_f):\r\n",
    "    total = X_t + X_f + O_t + O_f\r\n",
    "    remainder = (X_t + O_t) / total * entropy(X_t, O_t) + (X_f + O_f) / total * entropy(X_f, O_f)\r\n",
    "    return entropy(X_t + X_f, O_t + O_f) - remainder\r\n",
    "\r\n",
    "print('A:', gain(0, 2, 4, 2))\r\n",
    "print('B:', gain(1, 3, 3, 1))"
   ],
   "outputs": [
    {
     "output_type": "stream",
     "name": "stdout",
     "text": [
      "A: 0.31127812445913283\n",
      "B: 0.18872187554086717\n"
     ]
    }
   ],
   "metadata": {
    "scrolled": true
   }
  },
  {
   "cell_type": "markdown",
   "source": [
    "#### (c) Discussion of results.\r\n",
    "\r\n",
    "The counting heuristic from part (a) is going to build a less efficient tree than the heuristic from part (b). In part (a), we get equal proportions -- that is, 6 of 8 data will be correctly labeled after the first level by taking the most frequent classification given a condition, whether you choose A or B as the first feature. In part (b), we gain more information by choosing A as the first feature, because you narrow down the O class."
   ],
   "metadata": {}
  },
  {
   "cell_type": "markdown",
   "source": [
    "### 2 Compute both heuristics for simplified abalone data."
   ],
   "metadata": {}
  },
  {
   "cell_type": "code",
   "execution_count": 31,
   "source": [
    "x_train = pd.read_csv('data_abalone/x_train.csv')\r\n",
    "y_train = pd.read_csv('data_abalone/y_train.csv')\r\n",
    "x_test = pd.read_csv('data_abalone/x_test.csv')\r\n",
    "y_test = pd.read_csv('data_abalone/y_test.csv')\r\n",
    "\r\n",
    "small_x_train = pd.read_csv('data_abalone/small_binary_x_train.csv')\r\n",
    "small_y_train = pd.read_csv('data_abalone/3class_y_train.csv')\r\n",
    "small_x_test = pd.read_csv('data_abalone/small_binary_x_test.csv')\r\n",
    "small_y_test = pd.read_csv('data_abalone/3class_y_test.csv')"
   ],
   "outputs": [],
   "metadata": {}
  },
  {
   "cell_type": "markdown",
   "source": [
    "#### (a) Compute the counting-based heuristic, and order the features by it."
   ],
   "metadata": {}
  },
  {
   "cell_type": "code",
   "execution_count": 32,
   "source": [
    "# based on the most frequent classification given a feature value,\r\n",
    "# classify the example\r\n",
    "\r\n",
    "# start by figuring out the number of each class in a given feature value \r\n",
    "num_features = len(small_x_train.columns)\r\n",
    "cols = list(small_x_train.columns)\r\n",
    "f_c = [[0, 0, 0, 0], [0, 0, 0, 0], [0, 0, 0, 0], [0, 0, 0, 0]]\r\n",
    "for i in range(len(small_x_train)):\r\n",
    "    for f in cols:\r\n",
    "    # zero branch\r\n",
    "    # X_t, O_t, X_f, O_f\r\n",
    "        if small_x_train.at[i, f] == 0 and small_y_train.at[i, 'rings'] == 0:      # feature is 0, output is 0\r\n",
    "            f_c[cols.index(f)][0] += 1\r\n",
    "        elif small_x_train.at[i, f] == 0 and small_y_train.at[i, 'rings'] == 1:    # feature is 0, output is 1\r\n",
    "            f_c[cols.index(f)][1] += 1\r\n",
    "        elif small_x_train.at[i, f] == 1 and small_y_train.at[i, 'rings'] == 0:    # feature is 1, output is 0\r\n",
    "            f_c[cols.index(f)][2] += 1\r\n",
    "        elif small_x_train.at[i, f] == 1 and small_y_train.at[i, 'rings'] == 1:    # feature is 1, output is 1\r\n",
    "            f_c[cols.index(f)][3] += 1\r\n",
    "\r\n",
    "# get the score for each value, then sort by that value\r\n",
    "scores = {}\r\n",
    "for f in cols:\r\n",
    "    i = cols.index(f)\r\n",
    "    scores[f] = score(f_c[i][0], f_c[i][1], f_c[i][2], f_c[i][3])\r\n",
    "scores = dict(sorted(scores.items(), key=lambda x: x[1], reverse=True))\r\n",
    "\r\n",
    "# print values\r\n",
    "for i in scores:\r\n",
    "    print('{}: {}/{}'.format(i, scores[i], len(small_x_train)))"
   ],
   "outputs": [
    {
     "output_type": "stream",
     "name": "stdout",
     "text": [
      "height_mm: 2316/3176\n",
      "diam_mm: 2266/3176\n",
      "length_mm: 2230/3176\n",
      "is_male: 1864/3176\n"
     ]
    }
   ],
   "metadata": {}
  },
  {
   "cell_type": "markdown",
   "source": [
    "#### (b) Compute the information-theoretic heuristic, and order the features by it."
   ],
   "metadata": {}
  },
  {
   "cell_type": "code",
   "execution_count": 33,
   "source": [
    "# get the score for each value, then sort by that value\r\n",
    "scores = {}\r\n",
    "for f in cols:\r\n",
    "    i = cols.index(f)\r\n",
    "    scores[f] = gain(f_c[i][0], f_c[i][1], f_c[i][2], f_c[i][3])\r\n",
    "scores = dict(sorted(scores.items(), key=lambda x: x[1], reverse=True))\r\n",
    "\r\n",
    "# print values\r\n",
    "for i in scores:\r\n",
    "    print('{}: {}/{}'.format(i, scores[i], len(small_x_train)))"
   ],
   "outputs": [
    {
     "output_type": "stream",
     "name": "stdout",
     "text": [
      "height_mm: 0.170038221123736/3176\n",
      "diam_mm: 0.14799402907724246/3176\n",
      "length_mm: 0.13336348846054447/3176\n",
      "is_male: 0.024345033042779685/3176\n"
     ]
    }
   ],
   "metadata": {
    "scrolled": true
   }
  },
  {
   "cell_type": "markdown",
   "source": [
    "### 3 Generate decision trees for full- and restricted-feature data\n",
    "\n",
    "#### (a) Print accuracy values and generate tree images."
   ],
   "metadata": {}
  },
  {
   "cell_type": "code",
   "execution_count": 105,
   "source": [
    "# get average score (average because of RandomState)\r\n",
    "small_scores = list()\r\n",
    "big_scores = list()\r\n",
    "big_scores_max_nodes = list()\r\n",
    "\r\n",
    "for rand in range(5):\r\n",
    "    small_tree_classifier = sklearn.tree.DecisionTreeClassifier(criterion='entropy')\r\n",
    "    small_tree_classifier.fit(small_x_train, small_y_train)\r\n",
    "    small_scores.append(small_tree_classifier.score(small_x_test, small_y_test))\r\n",
    "      \r\n",
    "    big_tree_classifier = sklearn.tree.DecisionTreeClassifier(criterion='entropy')\r\n",
    "    big_tree_classifier.fit(x_train, y_train)\r\n",
    "    big_scores.append(big_tree_classifier.score(x_test, y_test))\r\n",
    "    \r\n",
    "    big_tree_classifier_max_nodes = sklearn.tree.DecisionTreeClassifier(criterion='entropy', max_leaf_nodes=45)\r\n",
    "    big_tree_classifier_max_nodes.fit(x_train, y_train)\r\n",
    "    big_scores_max_nodes.append(big_tree_classifier_max_nodes.score(x_test, y_test))\r\n",
    "    \r\n",
    "print('small data score: ', np.mean(small_scores))\r\n",
    "print('big data score: ', np.mean(big_scores))\r\n",
    "print('big data with max nodes = 45: ', np.mean(big_scores_max_nodes))\r\n",
    "\r\n",
    "\r\n",
    "sklearn.tree.plot_tree(small_tree_classifier)\r\n",
    "sklearn.tree.export_graphviz(small_tree_classifier);\r\n",
    "graph_data = sklearn.tree.export_graphviz(small_tree_classifier, out_file=None, filled=True, rounded=True) \r\n",
    "graph = graphviz.Source(graph_data)\r\n",
    "\r\n",
    "# sklearn.tree.plot_tree(big_tree_classifier)\r\n",
    "# sklearn.tree.export_graphviz(big_tree_classifier);\r\n",
    "# graph_data = sklearn.tree.export_graphviz(big_tree_classifier, out_file=None, filled=True, rounded=True) \r\n",
    "# graph = graphviz.Source(graph_data)\r\n",
    "\r\n",
    "sklearn.tree.plot_tree(big_tree_classifier_max_nodes)\r\n",
    "sklearn.tree.export_graphviz(big_tree_classifier_max_nodes);\r\n",
    "graph_data = sklearn.tree.export_graphviz(big_tree_classifier_max_nodes, out_file=None, filled=True, rounded=True) \r\n",
    "graph = graphviz.Source(graph_data)"
   ],
   "outputs": [
    {
     "output_type": "stream",
     "name": "stdout",
     "text": [
      "small data score:  0.722\n",
      "big data score:  0.19319999999999998\n",
      "big data with max nodes = 45:  0.28\n"
     ]
    },
    {
     "output_type": "display_data",
     "data": {
      "text/plain": [
       "<Figure size 432x288 with 1 Axes>"
      ],
      "image/png": "[encoded data removed]"
     },
     "metadata": {
      "needs_background": "light"
     }
    }
   ],
   "metadata": {}
  },
  {
   "cell_type": "markdown",
   "source": [
    "#### (b) Discuss the results seen for the two trees\r\n",
    "\r\n",
    "The smaller, binary data can be predicted much better. "
   ],
   "metadata": {}
  }
 ],
 "metadata": {
  "kernelspec": {
   "name": "python3",
   "display_name": "Python 3.8.10 64-bit ('ml_env': conda)"
  },
  "language_info": {
   "codemirror_mode": {
    "name": "ipython",
    "version": 3
   },
   "file_extension": ".py",
   "mimetype": "text/x-python",
   "name": "python",
   "nbconvert_exporter": "python",
   "pygments_lexer": "ipython3",
   "version": "3.8.10"
  },
  "interpreter": {
   "hash": "5488065bb2d6ca6a9de5ec6734160292494259bd2c5abc9e8432ae79ff9e5079"
  }
 },
 "nbformat": 4,
 "nbformat_minor": 2
}