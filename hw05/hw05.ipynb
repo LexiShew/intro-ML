{
 "cells": [
  {
   "cell_type": "markdown",
   "source": [
    "## Name and ID\r\n",
    "* Name: Lexi Shewchuk (ashewc01)\r\n",
    "* ID: 1331654"
   ],
   "metadata": {}
  },
  {
   "cell_type": "markdown",
   "source": [
    "## HW05 Code\n",
    "\n",
    "\n",
    "You will complete the following notebook, as described in the PDF for Homework 05 (included in the download with the starter code).  You will submit:\n",
    "1. This notebook file, along with your COLLABORATORS.txt file and the two tree images (PDFs generated using `graphviz` within the code), to the Gradescope link for code.\n",
    "2. A PDF of this notebook and all of its output, once it is completed, to the Gradescope link for the PDF.\n",
    "\n",
    "\n",
    "Please report any questions to the [class Piazza page](https://piazza.com/tufts/spring2021/comp135).\n",
    "\n",
    "### Import required libraries."
   ],
   "metadata": {}
  },
  {
   "cell_type": "code",
   "execution_count": 1,
   "source": [
    "import numpy as np\r\n",
    "import pandas as pd\r\n",
    "\r\n",
    "import sklearn.tree\r\n",
    "import graphviz"
   ],
   "outputs": [],
   "metadata": {}
  },
  {
   "cell_type": "markdown",
   "source": [
    "## Decision Trees\n",
    "\n",
    "You should start by computing the two heuristic values for the toy data described in the assignment handout. You should then load the two versions of the abalone data, compute the two heuristic values on features (for the simplified data), and then build decision trees for each set of data."
   ],
   "metadata": {}
  },
  {
   "cell_type": "markdown",
   "source": [
    "### 1 Compute both heuristics for toy data."
   ],
   "metadata": {}
  },
  {
   "cell_type": "markdown",
   "source": [
    "#### (a) Compute the counting-based heuristic, and order the features by it."
   ],
   "metadata": {}
  },
  {
   "cell_type": "code",
   "execution_count": 2,
   "source": [
    "#          A                                       B\r\n",
    "#        /   \\                                   /   \\\r\n",
    "#    True     False                           True   False\r\n",
    "#   100% O     33% O                         75% O     25% O\r\n",
    "#   0%   X     67% X                         25% X     75% X\r\n",
    "#       \r\n",
    "# If A = True,  guess O                    If B = True,  guess O\r\n",
    "#    A = False, guess X                       B = False, guess X\r\n",
    "#\r\n",
    "# correct:                                 correct:\r\n",
    "#   A = True:  2/2                           B = True:  3/4\r\n",
    "#   A = False: 4/6                           B = False: 3/4\r\n",
    "# score = 6/8                              score = 6/8\r\n",
    "\r\n",
    "# use to calculate score for ONE value in an attribute\r\n",
    "# sum score_k for all values in the attribute\r\n",
    "def score_k(c_0, c_1, c_2=0):\r\n",
    "    score = 0\r\n",
    "    percent_0 = c_0 / (c_0 + c_1 + c_2)\r\n",
    "    percent_1 = c_1 / (c_0 + c_1 + c_2)\r\n",
    "    percent_2 = c_2 / (c_0 + c_1 + c_2)\r\n",
    "    if percent_0 == max(percent_0, percent_1, percent_2):\r\n",
    "        score += c_0\r\n",
    "    elif percent_1 == max(percent_0, percent_1, percent_2):\r\n",
    "        score += c_1\r\n",
    "    else:\r\n",
    "        score += c_2\r\n",
    "    return score\r\n",
    "\r\n",
    "print('A: {}/{}'.format(score_k(2, 0) + score_k(2, 4), 8))\r\n",
    "print('B: {}/{}'.format(score_k(3, 1) + score_k(1, 3), 8))"
   ],
   "outputs": [
    {
     "output_type": "stream",
     "name": "stdout",
     "text": [
      "A: 6/8\n",
      "B: 6/8\n"
     ]
    }
   ],
   "metadata": {}
  },
  {
   "cell_type": "markdown",
   "source": [
    "#### (b) Compute the information-theoretic heuristic, and order the features by it."
   ],
   "metadata": {}
  },
  {
   "cell_type": "code",
   "execution_count": 3,
   "source": [
    "import math\r\n",
    "\r\n",
    "# calculates entropy of an attribute, given a list of probabilities for each value\r\n",
    "def entropy(prob_list):\r\n",
    "    sum = 0\r\n",
    "    for i in range(len(prob_list)):\r\n",
    "        if prob_list[i] == 0:\r\n",
    "            prob_list[i] = 1\r\n",
    "        sum += prob_list[i] * math.log(prob_list[i], 2)\r\n",
    "    return -1 * sum\r\n",
    "\r\n",
    "# caluclate one part of the remainder equation, for a given value\r\n",
    "def remainder_at_k(c_0_total, c_0_k, c_1_total, c_1_k, c_2_total=0, c_2_k=0):\r\n",
    "    k_total = c_0_k + c_1_k + c_2_k\r\n",
    "    real_total = c_0_total + c_1_total + c_2_total\r\n",
    "    return  (k_total / real_total) * entropy([c_0_k/k_total, c_1_k/k_total, c_2_k/k_total])\r\n",
    "\r\n",
    "# caluculate gains\r\n",
    "remainder_A = remainder_at_k(4, 2, 4, 0) + remainder_at_k(4, 2, 4, 4)\r\n",
    "gain_A = entropy([0.5, 0.5]) - remainder_A\r\n",
    "\r\n",
    "remainder_B = remainder_at_k(4, 3, 4, 1) + remainder_at_k(4, 1, 4, 3)\r\n",
    "gain_B = entropy([0.5, 0.5]) - remainder_B\r\n",
    "\r\n",
    "print('A:', gain_A)\r\n",
    "print('B:', gain_B)"
   ],
   "outputs": [
    {
     "output_type": "stream",
     "name": "stdout",
     "text": [
      "A: 0.31127812445913283\n",
      "B: 0.18872187554086717\n"
     ]
    }
   ],
   "metadata": {
    "scrolled": true
   }
  },
  {
   "cell_type": "markdown",
   "source": [
    "#### (c) Discussion of results.\r\n",
    "\r\n",
    "The reason to evaluate each heuristic is to determine which feature is the most important, and thus should belong closer to the root of the decision tree. For the counting heuristic, Feature A and Feature B evaluate to the same score; that is, using the majority class from each feature as the classifier, both features give a score of 6/8. Meanwhile, the information-theoretic heuristic demonstrates that Feature A is more important than Feature B. This is likely because we stand to gain the most information based on the value of A; if A is true, we know with 100% certainty that the class of the data is O. No such absolute conclusions can be drawn by using the counting heuristic. While both metrics will give you homologous end results, by placing Feature A at the root, it's possible to avoid unnessecary computations."
   ],
   "metadata": {}
  },
  {
   "cell_type": "markdown",
   "source": [
    "### 2 Compute both heuristics for simplified abalone data."
   ],
   "metadata": {}
  },
  {
   "cell_type": "code",
   "execution_count": 4,
   "source": [
    "x_train = pd.read_csv('data_abalone/x_train.csv')\r\n",
    "y_train = pd.read_csv('data_abalone/y_train.csv')\r\n",
    "x_test = pd.read_csv('data_abalone/x_test.csv')\r\n",
    "y_test = pd.read_csv('data_abalone/y_test.csv')\r\n",
    "\r\n",
    "small_x_train = pd.read_csv('data_abalone/small_binary_x_train.csv')\r\n",
    "small_y_train = pd.read_csv('data_abalone/3class_y_train.csv')\r\n",
    "small_x_test = pd.read_csv('data_abalone/small_binary_x_test.csv')\r\n",
    "small_y_test = pd.read_csv('data_abalone/3class_y_test.csv')"
   ],
   "outputs": [],
   "metadata": {}
  },
  {
   "cell_type": "markdown",
   "source": [
    "#### (a) Compute the counting-based heuristic, and order the features by it."
   ],
   "metadata": {}
  },
  {
   "cell_type": "code",
   "execution_count": 5,
   "source": [
    "# based on the most frequent classification given a feature value,\r\n",
    "# classify the example\r\n",
    "\r\n",
    "# start by figuring out the number of each class in a given feature value \r\n",
    "num_features = len(small_x_train.columns)\r\n",
    "cols = list(small_x_train.columns)\r\n",
    "f_c = [[0, 0, 0, 0, 0, 0], [0, 0, 0, 0, 0, 0], [0, 0, 0, 0, 0, 0], [0, 0, 0, 0, 0, 0]]\r\n",
    "for i in range(len(small_x_train)):\r\n",
    "    for f in cols:\r\n",
    "        if small_x_train.at[i, f] == 0 and small_y_train.at[i, 'rings'] == 0:      # feature 0, output 0\r\n",
    "            f_c[cols.index(f)][0] += 1\r\n",
    "        elif small_x_train.at[i, f] == 0 and small_y_train.at[i, 'rings'] == 1:    # feature 0, output 1\r\n",
    "            f_c[cols.index(f)][1] += 1\r\n",
    "        elif small_x_train.at[i, f] == 0 and small_y_train.at[i, 'rings'] == 2:    # feature 0, output 2\r\n",
    "            f_c[cols.index(f)][2] += 1\r\n",
    "        elif small_x_train.at[i, f] == 1 and small_y_train.at[i, 'rings'] == 0:    # feature 1, output 0\r\n",
    "            f_c[cols.index(f)][3] += 1\r\n",
    "        elif small_x_train.at[i, f] == 1 and small_y_train.at[i, 'rings'] == 1:    # feature 1, output 1\r\n",
    "            f_c[cols.index(f)][4] += 1\r\n",
    "        elif small_x_train.at[i, f] == 1 and small_y_train.at[i, 'rings'] == 2:    # feature 1, output 2\r\n",
    "            f_c[cols.index(f)][5] += 1\r\n",
    "\r\n",
    "\r\n",
    "\r\n",
    "# get the score for each value, then sort by that value\r\n",
    "scores = {}\r\n",
    "for f in cols:\r\n",
    "    i = cols.index(f)\r\n",
    "    scores[f] = score_k(f_c[i][0], f_c[i][1]) + score_k(f_c[i][2], f_c[i][3]) + score_k(f_c[i][4], f_c[i][5])\r\n",
    "scores = dict(sorted(scores.items(), key=lambda x: x[1], reverse=True))\r\n",
    "\r\n",
    "# print values\r\n",
    "for i in scores:\r\n",
    "    print('{}: {}/{}'.format(i, scores[i], len(small_x_train)))"
   ],
   "outputs": [
    {
     "output_type": "stream",
     "name": "stdout",
     "text": [
      "height_mm: 2818/3176\n",
      "diam_mm: 2806/3176\n",
      "length_mm: 2800/3176\n",
      "is_male: 2308/3176\n"
     ]
    }
   ],
   "metadata": {}
  },
  {
   "cell_type": "markdown",
   "source": [
    "#### (b) Compute the information-theoretic heuristic, and order the features by it."
   ],
   "metadata": {}
  },
  {
   "cell_type": "code",
   "execution_count": 6,
   "source": [
    "# get the gain for each value, then sort by that value\r\n",
    "data_size = len(small_y_train)\r\n",
    "gain_dict = {}\r\n",
    "\r\n",
    "class_counts = [0, 0, 0]\r\n",
    "\r\n",
    "for i in range(len(small_y_train)):\r\n",
    "    class_counts[small_y_train.at[i, 'rings']] += 1\r\n",
    "\r\n",
    "for f in range(len(cols)):\r\n",
    "    remainder_f = remainder_at_k(class_counts[0], f_c[f][0], class_counts[1], f_c[f][1], class_counts[2], f_c[f][2])\r\n",
    "    gain_f = entropy([class_counts[0]/data_size, class_counts[1]/data_size, class_counts[2]/data_size]) - remainder_f\r\n",
    "    gain_dict[cols[f]] = gain_f\r\n",
    "gain_dict = dict(sorted(gain_dict.items(), key=lambda x: x[1], reverse=True))\r\n",
    "\r\n",
    "# print values\r\n",
    "for i in gain_dict:\r\n",
    "    print('{}: {}'.format(i, gain_dict[i]))"
   ],
   "outputs": [
    {
     "output_type": "stream",
     "name": "stdout",
     "text": [
      "height_mm: 0.7009894850999243\n",
      "length_mm: 0.6948621592676095\n",
      "diam_mm: 0.6948359821321415\n",
      "is_male: 0.40121657477386385\n"
     ]
    }
   ],
   "metadata": {
    "scrolled": true
   }
  },
  {
   "cell_type": "markdown",
   "source": [
    "### 3 Generate decision trees for full- and restricted-feature data\n",
    "\n",
    "#### (a) Print accuracy values and generate tree images."
   ],
   "metadata": {}
  },
  {
   "cell_type": "code",
   "execution_count": 7,
   "source": [
    "# get average score (average because of RandomState)\r\n",
    "small_train_scores = list()\r\n",
    "small_test_scores = list()\r\n",
    "big_train_scores = list()\r\n",
    "big_test_scores = list()\r\n",
    "# big_scores_max_nodes_train = list()\r\n",
    "# big_scores_max_nodes_test = list()\r\n",
    "\r\n",
    "for rand in range(5):\r\n",
    "    small_tree_classifier = sklearn.tree.DecisionTreeClassifier(criterion='entropy')\r\n",
    "    small_tree_classifier.fit(small_x_train, small_y_train)\r\n",
    "    small_train_scores.append(small_tree_classifier.score(small_x_train, small_y_train))\r\n",
    "    small_test_scores.append(small_tree_classifier.score(small_x_test, small_y_test))\r\n",
    "      \r\n",
    "    big_tree_classifier = sklearn.tree.DecisionTreeClassifier(criterion='entropy')\r\n",
    "    big_tree_classifier.fit(x_train, y_train)\r\n",
    "    big_train_scores.append(big_tree_classifier.score(x_train, y_train))\r\n",
    "    big_test_scores.append(big_tree_classifier.score(x_test, y_test))\r\n",
    "    \r\n",
    "    # big_tree_classifier_max_nodes = sklearn.tree.DecisionTreeClassifier(criterion='entropy', max_leaf_nodes=45)\r\n",
    "    # big_tree_classifier_max_nodes.fit(x_train, y_train)\r\n",
    "    # big_scores_max_nodes_train.append(big_tree_classifier_max_nodes.score(x_train, y_train))\r\n",
    "    # big_scores_max_nodes_test.append(big_tree_classifier_max_nodes.score(x_test, y_test))\r\n",
    "    \r\n",
    "print('small data score TRAIN:', np.mean(small_train_scores))\r\n",
    "print('small data score TEST: ', np.mean(small_test_scores))\r\n",
    "print('big data score TRAIN:  ', np.mean(big_train_scores))\r\n",
    "print('big data score TEST:   ', np.mean(big_test_scores))\r\n",
    "# print('max node score TRAIN:  ', np.mean(big_scores_max_nodes_train))\r\n",
    "# print('max node score TEST:   ', np.mean(big_scores_max_nodes_test))\r\n",
    "\r\n",
    "\r\n",
    "sklearn.tree.plot_tree(small_tree_classifier);\r\n",
    "graph_data = sklearn.tree.export_graphviz(small_tree_classifier, out_file=None, filled=True, rounded=True);\r\n",
    "graph = graphviz.Source(graph_data);\r\n",
    "graph.render('small-tree-classifier');\r\n",
    "\r\n",
    "sklearn.tree.plot_tree(big_tree_classifier);\r\n",
    "graph_data = sklearn.tree.export_graphviz(big_tree_classifier, out_file=None, filled=True, rounded=True);\r\n",
    "graph = graphviz.Source(graph_data);\r\n",
    "graph.render('big-tree-classifier');\r\n",
    "\r\n",
    "# sklearn.tree.plot_tree(big_tree_classifier_max_nodes)\r\n",
    "# graph_data = sklearn.tree.export_graphviz(big_tree_classifier_max_nodes, out_file=None, filled=True, rounded=True) \r\n",
    "# graph = graphviz.Source(graph_data)\r\n",
    "# graph.render('max-node-tree-classifier');"
   ],
   "outputs": [
    {
     "output_type": "stream",
     "name": "stdout",
     "text": [
      "small data score TRAIN: 0.7326826196473551\n",
      "small data score TEST:  0.722\n",
      "big data score TRAIN:   1.0\n",
      "big data score TEST:    0.18839999999999998\n"
     ]
    },
    {
     "output_type": "display_data",
     "data": {
      "text/plain": [
       "<Figure size 432x288 with 1 Axes>"
      ],
      "image/png": "[encoded data removed]"
     },
     "metadata": {
      "needs_background": "light"
     }
    }
   ],
   "metadata": {}
  },
  {
   "cell_type": "markdown",
   "source": [
    "#### (b) Discuss the results seen for the two trees\r\n",
    "\r\n",
    "Looking at the simple, smaller tree generated from the binarized/ternarized data, it's easy to see how the classifier makes its decisions; firstly, it looks at X[3] (height) then at X[2] (diameter), then either X[1] (length) or X[0] (male). Depending on if these values are less than 0.5 (left branch) or not (right branch), the classifier goes down and arrives at its classification. Training and testing scores are almost identical -- 73% and 72%, respectively -- showing that this model is very dependable. The errors that it makes are primarily outliers -- abalone with similar features to other abalone, but have a different ring size group.\r\n",
    "Meanwhile, the more complex model is, well, more complex. Because the values for each feature aren't discretized, the model is allowed to be as sensitive to values as it wants to be; there are no broad thresholds it must adhere to. As a result, the model has a literally perfect training score, which could be great, except that its performance on unseen testing data is horrendous -- less than 19%. While the training score seems impressive, this model is extraordinarily overfit, and isn't actually useful for predicting abalone ring count.\r\n",
    "What's worth noting is that there are ways of reducing overfitting. Some that I investigated were max_leaf_nodes and min_impurity_decrease. By finding the best values for these hyperparamters, testing accuracy can be increased from ~19% to ~28%, which is fairly substantial, but with those regualarizations comes a decrease in training accuracy."
   ],
   "metadata": {}
  }
 ],
 "metadata": {
  "kernelspec": {
   "name": "python3",
   "display_name": "Python 3.8.10 64-bit ('ml_env': conda)"
  },
  "language_info": {
   "codemirror_mode": {
    "name": "ipython",
    "version": 3
   },
   "file_extension": ".py",
   "mimetype": "text/x-python",
   "name": "python",
   "nbconvert_exporter": "python",
   "pygments_lexer": "ipython3",
   "version": "3.8.10"
  },
  "interpreter": {
   "hash": "5488065bb2d6ca6a9de5ec6734160292494259bd2c5abc9e8432ae79ff9e5079"
  }
 },
 "nbformat": 4,
 "nbformat_minor": 2
}